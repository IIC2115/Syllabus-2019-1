{
 "cells": [
  {
   "cell_type": "markdown",
   "metadata": {},
   "source": [
    "# Pauta L03 - IIC2115\n",
    "__________"
   ]
  },
  {
   "cell_type": "markdown",
   "metadata": {},
   "source": [
    "Esta pauta tiene como función mostrar una solución posible a cada problema y de forma sencilla, no necesariamente la solución mostrada por esta pauta es la más eficiente."
   ]
  },
  {
   "cell_type": "markdown",
   "metadata": {},
   "source": [
    "## Problema I a"
   ]
  },
  {
   "cell_type": "code",
   "execution_count": 1,
   "metadata": {},
   "outputs": [],
   "source": [
    "def camino_maximo(lista_a, lista_b):\n",
    "    camino_maximo = []\n",
    "    lista_a = [(int(i, 16)) for i in lista_a]\n",
    "    lista_b = [(int(i, 16)) for i in lista_b]\n",
    "    i_a, i_b = (0,0)\n",
    "    comunes = []\n",
    "    while i_a < len(lista_a) and i_b < len(lista_b):\n",
    "        if lista_a[i_a] < lista_b[i_b]:\n",
    "            i_a += 1\n",
    "        elif lista_a[i_a] > lista_b[i_b]:\n",
    "            i_b += 1\n",
    "        else:\n",
    "            comunes.append(lista_b[i_b])\n",
    "            i_a += 1\n",
    "            i_b += 1\n",
    "\n",
    "    for nodo in comunes:\n",
    "        if sum(lista_a[:lista_a.index(nodo) + 1]) > sum(lista_b[:lista_b.index(nodo) + 1]):\n",
    "            camino_maximo += lista_a[:lista_a.index(nodo) + 1]\n",
    "        else:\n",
    "            camino_maximo += lista_b[:lista_b.index(nodo) + 1]\n",
    "\n",
    "        lista_a = lista_a[lista_a.index(nodo) + 1:]\n",
    "        lista_b = lista_b[lista_b.index(nodo) + 1:]\n",
    "        \n",
    "    if sum(lista_a) > sum(lista_a):\n",
    "        camino_maximo += lista_a\n",
    "    else:\n",
    "        camino_maximo += lista_b\n",
    "\n",
    "    return [hex(i).split('x')[-1] for i in camino_maximo]"
   ]
  },
  {
   "cell_type": "markdown",
   "metadata": {},
   "source": [
    "### Input"
   ]
  },
  {
   "cell_type": "code",
   "execution_count": 2,
   "metadata": {},
   "outputs": [
    {
     "name": "stdout",
     "output_type": "stream",
     "text": [
      "['1', '2', '3', '6', '7', '9', 'a', 'b', '10', '12', 'f', '64']\n"
     ]
    }
   ],
   "source": [
    "lista1 = [\"3\",\"6\",\"7\",\"8\",\"A\",\"C\",\"12\",\"F\",\"64\"]\n",
    "lista2 = [\"1\",\"2\",\"3\",\"5\",\"7\",\"9\",\"A\",\"B\",\"10\",\"12\",\"F\",\"19\",\"32\"]\n",
    "print(camino_maximo(lista2,lista1))"
   ]
  },
  {
   "cell_type": "markdown",
   "metadata": {},
   "source": [
    "## Problema I b"
   ]
  },
  {
   "cell_type": "code",
   "execution_count": 3,
   "metadata": {},
   "outputs": [],
   "source": [
    "def sistema_de_registro(lista):\n",
    "    existentes = {}\n",
    "    output = []\n",
    "    \n",
    "    for nombre in lista:\n",
    "        if nombre in existentes:\n",
    "            existentes[nombre] += 1\n",
    "            output.append(\"{}{}\".format(nombre,existentes[nombre]))\n",
    "        else:\n",
    "            output.append(\"OK\")\n",
    "            existentes[nombre] = 0\n",
    "            \n",
    "    return output"
   ]
  },
  {
   "cell_type": "markdown",
   "metadata": {},
   "source": [
    "### Input"
   ]
  },
  {
   "cell_type": "code",
   "execution_count": 4,
   "metadata": {},
   "outputs": [
    {
     "name": "stdout",
     "output_type": "stream",
     "text": [
      "['OK', 'OK', 'Pablo1', 'OK', 'OK', 'OK', 'Jaime1', 'Pablo2', 'Daniel1', 'Felipe1', 'Bastián1']\n"
     ]
    }
   ],
   "source": [
    "lista = [\"Pablo\", \"Jaime\", \"Pablo\", \"Bastián\", \"Daniel\", \"Felipe\", \"Jaime\", \"Pablo\", \"Daniel\", \"Felipe\", \"Bastián\"]\n",
    "print(sistema_de_registro(lista))"
   ]
  },
  {
   "cell_type": "markdown",
   "metadata": {},
   "source": [
    "## Problema II a"
   ]
  },
  {
   "cell_type": "code",
   "execution_count": 5,
   "metadata": {},
   "outputs": [],
   "source": [
    "def secuencia_valor_minimo(sec):  # Recibe una secuencia como string\n",
    "    if len(sec) > 9:  # No se pueden repetir dígitos\n",
    "        return \"Secuencia excede largo máximo\"\n",
    "    out = []\n",
    "    lista = []\n",
    "    stack = []\n",
    "    aux = [sec[0]]\n",
    "    for i in range(1, len(sec)):  # Agrupa según tramos de + o - y se agrega invertido a un stack\n",
    "        if sec[i] in aux:  # ej: para -+--++ el stack es [['-'], ['+'], ['-', '-'], ['+', '+']]\n",
    "            aux.append(sec[i])\n",
    "        else:\n",
    "            lista.append(aux)\n",
    "            aux = [sec[i]]\n",
    "    lista.append(aux)\n",
    "    for i in reversed(lista):\n",
    "        stack.append(i)\n",
    "\n",
    "    if sec[0] == \"+\":  # Se define el dígito de partida\n",
    "        out.append(1)\n",
    "    else:\n",
    "        out.append(len(stack[-1]))\n",
    "    pos = 1\n",
    "    while len(stack) > 0:\n",
    "        for i in range(0, len(stack[-1])):\n",
    "            if stack[-1][i] == \"+\":\n",
    "                if i == len(stack[-1]) - 1 and len(stack) > 1:\n",
    "                    if 0 not in out:  # si aún no se usa el 0,\n",
    "                        num = sorted(out)[-1] + len(stack[-2])  # El dígito correspondiente al último + \n",
    "                        out.append(num)                         # anterior a un - se adapta \n",
    "                    else:\n",
    "                        num = sorted(out)[-1] + len(stack[-2])\n",
    "                        out.append(num + 1)\n",
    "                else:\n",
    "                    num = sorted(out)[-1]\n",
    "                    out.append(num + 1)\n",
    "            elif 0 not in out:  # Si aún no se utiliza el 0, se utiliza la próxima vez que haya un -\n",
    "                if i == len(stack[-1]) - 1:\n",
    "                    out.append(0)\n",
    "                else:\n",
    "                    num = out[pos - 1]\n",
    "                    out.append(num - 1)\n",
    "            else:\n",
    "                num = out[pos - 1]\n",
    "                out.append(num - 1)\n",
    "            pos += 1\n",
    "        stack.pop()  # Se eliminan los tramos de la secuencia ya traducidos a dígitos\n",
    "    return out"
   ]
  },
  {
   "cell_type": "markdown",
   "metadata": {},
   "source": [
    "### Input"
   ]
  },
  {
   "cell_type": "code",
   "execution_count": 6,
   "metadata": {},
   "outputs": [
    {
     "name": "stdout",
     "output_type": "stream",
     "text": [
      "[1, 4, 3, 2, 0, 5, 7, 6, 8]\n"
     ]
    }
   ],
   "source": [
    "print(secuencia_valor_minimo('+---++-+'))"
   ]
  },
  {
   "cell_type": "markdown",
   "metadata": {},
   "source": [
    "## Problema II b"
   ]
  },
  {
   "cell_type": "code",
   "execution_count": 7,
   "metadata": {},
   "outputs": [],
   "source": [
    "from collections import deque"
   ]
  },
  {
   "cell_type": "code",
   "execution_count": 8,
   "metadata": {},
   "outputs": [],
   "source": [
    "def contar_aldeas(tablero, contador_aldeas = 0):\n",
    "    cola = deque()\n",
    "    fila = list(range(len(tablero)))\n",
    "    columna = list(range(len(tablero[0])))\n",
    "    visitadas = []\n",
    "\n",
    "    for i in fila:\n",
    "        for j in columna:\n",
    "            if tablero[i][j] == \"H\" and (i, j) not in visitadas:\n",
    "                aldea_actual = [(i, j)]\n",
    "                visitadas.append((i, j))\n",
    "                cola.append((i, j))\n",
    "                adyacentes(i, j, tablero, visitadas, cola, aldea_actual)\n",
    "                if len(aldea_actual) > 1:\n",
    "                    contador_aldeas += 1\n",
    "                while len(cola) > 0:\n",
    "                    casilla = cola.popleft()\n",
    "                    adyacentes(casilla[0], casilla[1], tablero, visitadas, cola, aldea_actual)\n",
    "\n",
    "    return contador_aldeas\n",
    "\n",
    "def adyacentes(fila, columna, matriz, visitadas, cola, aldea_actual):\n",
    "    for i,j in [(1,0),(0,1),(-1,0),(0,-1)]:\n",
    "        if fila + i < 0 or columna + j < 0 or fila + i >= len(matriz) or columna + j >= len(matriz[0]):\n",
    "            continue\n",
    "        if matriz[fila + i][columna + j] == \"H\" and (fila + i, columna + j) not in visitadas:\n",
    "            aldea_actual.append((fila + i, columna + j))\n",
    "            cola.append((fila + i, columna + j))\n",
    "            visitadas.append((fila + i, columna + j))"
   ]
  },
  {
   "cell_type": "markdown",
   "metadata": {},
   "source": [
    "### Input"
   ]
  },
  {
   "cell_type": "code",
   "execution_count": 9,
   "metadata": {},
   "outputs": [
    {
     "name": "stdout",
     "output_type": "stream",
     "text": [
      "4\n"
     ]
    }
   ],
   "source": [
    "tablero = [[\"D\",\"D\",\"D\",\"D\",\"D\",\"D\",\"D\"],\n",
    "           [\"D\",\"D\",\"D\",\"D\",\"D\",\"H\",\"D\"],\n",
    "           [\"D\",\"H\",\"D\",\"D\",\"H\",\"H\",\"D\"],\n",
    "           [\"D\",\"H\",\"H\",\"D\",\"H\",\"D\",\"H\"],\n",
    "           [\"D\",\"D\",\"D\",\"D\",\"D\",\"D\",\"D\"],\n",
    "           [\"D\",\"H\",\"D\",\"D\",\"D\",\"D\",\"D\"],\n",
    "           [\"D\",\"D\",\"H\",\"D\",\"H\",\"H\",\"D\"],\n",
    "           [\"D\",\"D\",\"H\",\"D\",\"D\",\"D\",\"D\"]]\n",
    "print(contar_aldeas(tablero))"
   ]
  },
  {
   "cell_type": "markdown",
   "metadata": {},
   "source": [
    "## Problema 3"
   ]
  },
  {
   "cell_type": "code",
   "execution_count": 10,
   "metadata": {},
   "outputs": [],
   "source": [
    "def crear_arbol(tree, n):\n",
    "    for i in range(n, 2 * n):\n",
    "        tree[i] = 1\n",
    "    for i in range(n - 1, 0, -1):\n",
    "        tree[i] = tree[2 * i] + tree[2 * i + 1]\n",
    "    return tree\n",
    "\n",
    "\n",
    "def cambiar(tree, n, pos, value):\n",
    "    i = pos + n\n",
    "    tree[i] += value\n",
    "\n",
    "    i = i // 2\n",
    "    while i >= 1:\n",
    "        tree[i] += value\n",
    "        i = i // 2\n",
    "    return tree\n",
    "\n",
    "\n",
    "def suma(tree, n, l, r):\n",
    "    ret = 0\n",
    "    l += n\n",
    "    r += n\n",
    "    while l <= r:\n",
    "        if l % 2 == 1:\n",
    "            ret += tree[l]\n",
    "            l = (l + 1) // 2\n",
    "        else:\n",
    "            l = l // 2\n",
    "        if r % 2 == 0:\n",
    "            ret += tree[r]\n",
    "            r = (r - 1) // 2\n",
    "        else:\n",
    "            r = r // 2\n",
    "    return ret\n",
    "\n",
    "\n",
    "def orden_lista(n):\n",
    "    tree = [None] * (n * 2)\n",
    "    arbol = crear_arbol(tree, n)\n",
    "\n",
    "    lista_final = [None] * n\n",
    "\n",
    "    old_i = 0  # desde donde quiero dar los pasos\n",
    "    posiciones_libres = [x for x in range(n)]\n",
    "    for i in range(1, n):  # reviso todas las cartas\n",
    "        pos = posiciones_libres[-1]  # hasta que posicion salto\n",
    "\n",
    "        p_faltan = i + 1  # cuanto pasos quiero saltar\n",
    "\n",
    "        p_disp = suma(arbol, n, old_i, pos)  # cuantos saltos tengo disponibles\n",
    "\n",
    "        if p_faltan > p_disp:  # si quiero mas pasos que los que hay disponibles\n",
    "            p_faltan = p_faltan - p_disp  # le saco los saltos que si o si tengo que dar \n",
    "            old_i = 0  # parto desde la pos 0\n",
    "            p_disp = suma(arbol, n, old_i, pos)\n",
    "            if p_faltan > p_disp:\n",
    "                p_faltan = p_faltan % p_disp  # saco las veces que doy la vuelta completa\n",
    "                p_disp = suma(arbol, n, old_i, pos)\n",
    "        if p_faltan == 0:\n",
    "            p_faltan = p_disp\n",
    "\n",
    "        medio = posiciones_libres.index(\n",
    "            pos) // 2  # cuanto me muevo la siguiente busqueda por la cantidad de saltos\n",
    "\n",
    "        while p_disp != p_faltan:  # busco la posiocion\n",
    "            if p_disp > p_faltan:\n",
    "                pos = posiciones_libres[max(posiciones_libres.index(pos) - medio, 0)]\n",
    "                p_disp = suma(arbol, n, old_i, pos)\n",
    "\n",
    "            elif p_disp < p_faltan:\n",
    "                pos = posiciones_libres[\n",
    "                    min(posiciones_libres.index(pos) + medio, len(posiciones_libres) - 1)]\n",
    "                p_disp = suma(arbol, n, old_i, pos)\n",
    "\n",
    "            medio = max(medio // 2, 1)\n",
    "\n",
    "        old_i = pos  # cambio la posicion antigua\n",
    "        lista_final[pos] = i  # agrego el elemento a la lista\n",
    "        posiciones_libres.pop(\n",
    "            posiciones_libres.index(pos))  # elimino la posicion libre de la lista de posibles pos\n",
    "        cambiar(arbol, n, pos, -1)  # dejo en 0 el valor de la posicion correspondiente\n",
    "\n",
    "    lista_final[lista_final.index(None)] = n\n",
    "    return lista_final"
   ]
  },
  {
   "cell_type": "markdown",
   "metadata": {},
   "source": [
    "### Input"
   ]
  },
  {
   "cell_type": "code",
   "execution_count": 11,
   "metadata": {},
   "outputs": [
    {
     "data": {
      "text/plain": [
       "[6, 1, 10, 14, 2, 9, 5, 11, 3, 12, 15, 13, 7, 4, 8]"
      ]
     },
     "execution_count": 11,
     "metadata": {},
     "output_type": "execute_result"
    }
   ],
   "source": [
    "orden_lista(15)"
   ]
  },
  {
   "cell_type": "markdown",
   "metadata": {},
   "source": [
    "### Comentarios sobre eficiencia. ⌛"
   ]
  },
  {
   "cell_type": "markdown",
   "metadata": {},
   "source": [
    "Para probar la diferencia de usar un algoritmo eficiente aplicando la materia versus un algoritmo que simplemente ejecuta el algoritmo del enunciado pero de forma inversa les mostramos los tiempos de ejecucion de ambos algoritmos para un valor de n fijo."
   ]
  },
  {
   "cell_type": "code",
   "execution_count": 12,
   "metadata": {},
   "outputs": [],
   "source": [
    "def orden_ineficiente(n):\n",
    "    lista = list(range(1, n + 1))\n",
    "    lista_aux = []\n",
    "    iteraciones = len(lista)\n",
    "\n",
    "    while len(lista) != 0:\n",
    "        lista_aux.append(lista[-1])\n",
    "        lista.pop(-1)\n",
    "        for _ in range(iteraciones + 1):\n",
    "            lista_aux.insert(0, lista_aux.pop())\n",
    "        iteraciones -= 1\n",
    "\n",
    "    return lista_aux"
   ]
  },
  {
   "cell_type": "code",
   "execution_count": 13,
   "metadata": {},
   "outputs": [],
   "source": [
    "from time import time"
   ]
  },
  {
   "cell_type": "code",
   "execution_count": 14,
   "metadata": {},
   "outputs": [
    {
     "name": "stdout",
     "output_type": "stream",
     "text": [
      "Ineficiente:  0.14500737190246582\n",
      "Eficiente:  0.12999844551086426\n"
     ]
    }
   ],
   "source": [
    "n = 500\n",
    "\n",
    "start = time()\n",
    "orden_ineficiente(n)\n",
    "print(\"Ineficiente: \", time() - start)\n",
    "\n",
    "start = time()\n",
    "orden_lista(n)\n",
    "print(\"Eficiente: \", time() - start)"
   ]
  },
  {
   "cell_type": "code",
   "execution_count": 15,
   "metadata": {},
   "outputs": [
    {
     "name": "stdout",
     "output_type": "stream",
     "text": [
      "Ineficiente:  217.38066816329956\n",
      "Eficiente:  18.861796379089355\n"
     ]
    }
   ],
   "source": [
    "n = 10000\n",
    "\n",
    "start = time()\n",
    "r_ineficiente = orden_ineficiente(n)\n",
    "t_ineficiente = time() - start\n",
    "print(\"Ineficiente: \", t_ineficiente)\n",
    "\n",
    "start = time()\n",
    "r_eficiente = orden_lista(n)\n",
    "t_eficiente = time() - start\n",
    "print(\"Eficiente: \", t_eficiente)"
   ]
  },
  {
   "cell_type": "markdown",
   "metadata": {},
   "source": [
    "Podrán notar que para valores chicos de n (menores a 1000) la diferencia no es significativa, incluso el algoritmo eficiente tarda más para valores de n muy chicos (menores a 100), pero a medida que n aumenta si se nota gran diferencia, en este caso para `n = 10000` el algoritmo ineficiente tarda aproximadamente 11 veces más."
   ]
  },
  {
   "cell_type": "markdown",
   "metadata": {},
   "source": [
    "### Nota: \n",
    "Algunos alumnos fueron incluso más allá e implementaron una solución mucho mejor que creo que vale la pena que vean, no se utilizan los contenidos sugeridos para este problema pero la diferencia en ⌚ tiempo de ejecución es realmente considerable."
   ]
  },
  {
   "cell_type": "code",
   "execution_count": 16,
   "metadata": {},
   "outputs": [],
   "source": [
    "from collections import deque\n",
    "\n",
    "def orden_ultra_eficiente(n):\n",
    "    d = deque()\n",
    "    d.append(n)\n",
    "    if n % 2 == 0:\n",
    "        d.append(n - 1)\n",
    "    elif n % 2 == 1:\n",
    "        d.appendleft(n - 1)\n",
    "    iteracion = n - 2\n",
    "    while iteracion > 0:\n",
    "        d.appendleft(iteracion)\n",
    "        d.rotate(iteracion)\n",
    "        iteracion -= 1\n",
    "    return (list(d))"
   ]
  },
  {
   "cell_type": "code",
   "execution_count": 17,
   "metadata": {},
   "outputs": [
    {
     "name": "stdout",
     "output_type": "stream",
     "text": [
      "Comparación de resultados:  True\n",
      "Tiempos:\n",
      "\tIneficiente:  217.38066816329956 \n",
      "\tEficiente:  18.861796379089355 \n",
      "\tUltra eficiente:  0.048081159591674805\n"
     ]
    }
   ],
   "source": [
    "start = time()\n",
    "r_ultra_eficiente = orden_ultra_eficiente(n)\n",
    "t_ultra_eficiente = time() - start\n",
    "print(\"Comparación de resultados: \" , r_ineficiente == r_eficiente == r_ultra_eficiente)\n",
    "print(\"Tiempos:\\n\\tIneficiente: \", t_ineficiente, \"\\n\\tEficiente: \", t_eficiente, \"\\n\\tUltra eficiente: \", t_ultra_eficiente)"
   ]
  },
  {
   "cell_type": "markdown",
   "metadata": {},
   "source": [
    "La última solución implementa el uso de colas, esto demuestra que usar distintas estructuras de datos puede afectar MUCHO el tiempo de ejecución."
   ]
  }
 ],
 "metadata": {
  "kernelspec": {
   "display_name": "Python 3",
   "language": "python",
   "name": "python3"
  },
  "language_info": {
   "codemirror_mode": {
    "name": "ipython",
    "version": 3
   },
   "file_extension": ".py",
   "mimetype": "text/x-python",
   "name": "python",
   "nbconvert_exporter": "python",
   "pygments_lexer": "ipython3",
   "version": "3.7.0"
  }
 },
 "nbformat": 4,
 "nbformat_minor": 2
}
