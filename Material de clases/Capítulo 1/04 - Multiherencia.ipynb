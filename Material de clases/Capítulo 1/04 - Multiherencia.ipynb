{
 "cells": [
  {
   "cell_type": "markdown",
   "metadata": {},
   "source": [
    "<p>\n",
    "<font size='5' face='Georgia, Arial'>IIC2115 - Programación como herramienta para la ingeniería</font><br>\n",
    "<font size='1'>Basado en material de Karim Pichara y Christian Pieringer. Todos los derechos reservados.</font>\n",
    "</p>"
   ]
  },
  {
   "cell_type": "markdown",
   "metadata": {},
   "source": [
    "<h1>Multiherencia</h1>\n",
    "\n",
    "Tal como es posible que una subclase herede datos y comportamiento de una superclase, también es posible heredar\n",
    "de más de una clase a la vez:"
   ]
  },
  {
   "cell_type": "code",
   "execution_count": null,
   "metadata": {},
   "outputs": [],
   "source": [
    "class Investigador:\n",
    "    def __init__(self, area):\n",
    "        self.area = area\n",
    "        \n",
    "class Docente:\n",
    "    def __init__(self, departamento):\n",
    "        self.departamento = departamento\n",
    "        \n",
    "class Academico(Docente, Investigador):\n",
    "    def __init__(self, nombre, area_investigacion, departamento):\n",
    "        #esto no es del todo correcto, coming soon...\n",
    "        Investigador.__init__(self, area_investigacion)\n",
    "        Docente.__init__(self, departamento)\n",
    "        self.nombre = nombre\n",
    "\n",
    "p1 = Academico(\"Juan Perez\", \"Inteligencia de Máquina\", \"Ciencia De La Computación\")\n",
    "print(p1.nombre)\n",
    "print(p1.area)\n",
    "print(p1.departamento)"
   ]
  },
  {
   "cell_type": "markdown",
   "metadata": {},
   "source": [
    "<h2> Multiherencia y el Problema del diamante</h2>\n",
    "\n",
    "El siguiente ejemplo muestra lo que ocurre en un contexto de multiherencia si es que cada sub-clase llama directamente a inicializar a todas sus superclases. La figura siguiente muestra la jerarquía de las clases en cuestión\n",
    "\n",
    "![Diamante](figs/img_diamante.png)"
   ]
  },
  {
   "cell_type": "markdown",
   "metadata": {},
   "source": [
    "El siguiente código muestra qué ocurre cuando llamamos al método `llamar()` en ambas super clases desde la clase `SubClaseA`."
   ]
  },
  {
   "cell_type": "code",
   "execution_count": null,
   "metadata": {},
   "outputs": [],
   "source": [
    "class ClaseB:\n",
    "    num_llamadas_B = 0\n",
    "    def llamar(self):\n",
    "        print(\"Llamando método en Clase B\")\n",
    "        self.num_llamadas_B += 1\n",
    "\n",
    "\n",
    "class SubClaseIzquierda(ClaseB):\n",
    "    num_llamadas_izq = 0\n",
    "    def llamar(self):\n",
    "        ClaseB.llamar(self)\n",
    "        print(\"Llamando método en Subclase izquierda\")\n",
    "        self.num_llamadas_izq += 1\n",
    "\n",
    "class SubClaseDerecha(ClaseB):\n",
    "    num_llamadas_der = 0\n",
    "    def llamar(self):\n",
    "        ClaseB.llamar(self)\n",
    "        print(\"Llamando método en Subclase derecha\")\n",
    "        self.num_llamadas_der += 1\n",
    "\n",
    "class SubClaseA(SubClaseIzquierda, SubClaseDerecha):\n",
    "    num_llamadas_subA = 0\n",
    "    def llamar(self):\n",
    "        SubClaseIzquierda.llamar(self)\n",
    "        SubClaseDerecha.llamar(self)\n",
    "        print(\"Llamando método en SubclaseA\")\n",
    "        self.num_llamadas_subA += 1\n",
    "\n",
    "s = SubClaseA()\n",
    "s.llamar()\n",
    "print(s.num_llamadas_subA, s.num_llamadas_izq, s.num_llamadas_der, s.num_llamadas_B)"
   ]
  },
  {
   "cell_type": "markdown",
   "metadata": {},
   "source": [
    "Del output se puede apreciar que la clase de más arriba en la jerarquía (\"Clase B\"), fue llamada dos veces, a pesar de que el objetivo era llamarla sólo una vez. La estructura de jerarquía en forma de diamante ocurre siempre que tengamos una clase que hereda de dos clases. Ya que como en Python todo es un objeto, todo hereda de la clase \"object\" (ver: \"new style classes (https://www.python.org/doc/newstyle/)\"), por lo tanto en general el esquema de multiherencia se ve de la siguiente forma:\n",
    "\n",
    "![Diamante2](figs/img_diamante_2.png)\n",
    "Siguiendo el mismo ejemplo anterior, en vez de llamar al método \"llamar()\", llamamos al método \"__init__\", estaríamos inicializando dos veces en la clase \"object\"!!. "
   ]
  },
  {
   "cell_type": "markdown",
   "metadata": {},
   "source": [
    "<h2>Solución:</h2>\n",
    "\n",
    "La solución es que cada clase debe preocuparse de llamar a inicializar a la clase que la \"precede\" en el orden del esquema de la multiherencia. En Python el orden de las clases va de izquierda a derecha dentro de la lista de super-clases desde donde hereda la sub-clase. En este caso, simplemente debemos preocuparnos de hacer una llamada a \"super()\", Python se encargará de que la llamada corresponda a la clase que respeta el orden en la multiherencia, en este caso, después de la subclase viene la clase \"SubclaseIzquierda\", después \"SubClaseDerecha\" y finalmente \"ClaseB\""
   ]
  },
  {
   "cell_type": "code",
   "execution_count": null,
   "metadata": {},
   "outputs": [],
   "source": [
    "class ClaseB:\n",
    "    num_llamadas_B = 0\n",
    "    def llamar(self):\n",
    "        print(\"Llamando método en Clase B\")\n",
    "        self.num_llamadas_B += 1\n",
    "\n",
    "\n",
    "class SubClaseIzquierda(ClaseB):\n",
    "    num_llamadas_izq = 0\n",
    "    def llamar(self):\n",
    "        super().llamar()\n",
    "        print(\"Llamando método en Subclase Izquierda\")\n",
    "        self.num_llamadas_izq += 1\n",
    "\n",
    "class SubClaseDerecha(ClaseB):\n",
    "    num_llamadas_der = 0\n",
    "    def llamar(self):\n",
    "        super().llamar()\n",
    "        print(\"Llamando método en Subclase Derecha\")\n",
    "        self.num_llamadas_der += 1\n",
    "\n",
    "class SubClaseA(SubClaseIzquierda, SubClaseDerecha):\n",
    "    num_llamadas_subA = 0\n",
    "    def llamar(self):\n",
    "        super().llamar()\n",
    "        print(\"Llamando método en SubclaseA\")\n",
    "        self.num_llamadas_subA += 1\n",
    "\n",
    "s = SubClaseA()\n",
    "s.llamar()\n",
    "print(s.num_llamadas_subA, s.num_llamadas_izq, s.num_llamadas_der, s.num_llamadas_B)"
   ]
  },
  {
   "cell_type": "markdown",
   "metadata": {},
   "source": [
    "### El método `__mro__` (method resolution order) nos muestra el orden de la jerarquía. \n",
    "\n",
    "Para casos de multiherencia más complejos, Python utiliza el algoritmo C3 para calcular un orden lineal entre las clases que participan en el esquema de multiherencia: \n"
   ]
  },
  {
   "cell_type": "code",
   "execution_count": null,
   "metadata": {
    "scrolled": false
   },
   "outputs": [],
   "source": [
    "SubClaseA.__mro__"
   ]
  },
  {
   "cell_type": "markdown",
   "metadata": {},
   "source": [
    "Esto significa que cualquier estructura de multiherencia que no pueda ser resuelta por el algoritmo C3, no está permitida en Python:"
   ]
  },
  {
   "cell_type": "code",
   "execution_count": null,
   "metadata": {},
   "outputs": [],
   "source": [
    "class X():\n",
    "    def call_me(self):\n",
    "        print(\"soy X\")\n",
    "    \n",
    "class Y():\n",
    "    def call_me(self):\n",
    "        print(\"soy Y\")\n",
    "    \n",
    "class A(X, Y):\n",
    "    def call_me(self):\n",
    "        print(\"soy A\")\n",
    "    \n",
    "class B(Y, X):\n",
    "     def call_me(self):\n",
    "         print(\"soy B\")\n",
    "\n",
    "class F(A, B):\n",
    "    def call_me(self):\n",
    "        print(\"soy F\")"
   ]
  },
  {
   "cell_type": "markdown",
   "metadata": {},
   "source": [
    "<h2> Ejemplo Multiherencia: </h2>\n",
    "\n",
    "<h3> Mala práctica: </h3> \n",
    "\n",
    "Si bien el siguiente ejemplo al parecer funciona correctamente, al llamar directamente a las superclases dentro de la clase Cliente estamos cometiendo el error mencionado anteriormente (se está llamando al inicializador de `object` más de una vez)"
   ]
  },
  {
   "cell_type": "code",
   "execution_count": null,
   "metadata": {},
   "outputs": [],
   "source": [
    "class AddressHolder:\n",
    "    def __init__(self, calle, numero, comuna, ciudad):\n",
    "        self.calle = calle\n",
    "        self.ciudad = ciudad\n",
    "        self.comuna = comuna\n",
    "        self.numero = numero\n",
    "\n",
    "class Contacto:\n",
    "\n",
    "    contactos_list = []\n",
    "\n",
    "    def __init__(self, nombre, email):\n",
    "        self.nombre = nombre\n",
    "        self.email = email\n",
    "        Contacto.contactos_list.append(self)\n",
    "\n",
    "\n",
    "class Cliente(Contacto, AddressHolder):\n",
    "\n",
    "    def __init__(self, nombre, email, telefono, calle, numero, comuna, ciudad):\n",
    "        Contacto.__init__(self, nombre, email)\n",
    "        AddressHolder.__init__(self, calle, numero, comuna, ciudad)\n",
    "        self.telefono = telefono\n",
    "\n",
    "c = Cliente('Juan Perez', 'jp@gmail.com', '23542331', 'Pedro de Valdivia', '231', 'Providencia', 'Santiago')\n",
    "\n",
    "print(\"{}, {}, {}, {}\".format(c.nombre, c.email, c.calle, c.comuna))"
   ]
  },
  {
   "cell_type": "markdown",
   "metadata": {},
   "source": [
    "### Forma mejorada: `*args` y `**kwargs`\n",
    "\n",
    "Antes de ver una forma más adecuada para la versión del código anterior, mostraremos cómo usar `**kwargs`. En este caso `**kwargs` se refiere a un _keyworded variable-length argument list_, donde `**` mapea los elementos contenidos en el diccionario `kwargs` y los pasa a la función como argumentos no posicionales. Este método puede ser usado para enviar una cantidad variable de argumentos a una función:"
   ]
  },
  {
   "cell_type": "code",
   "execution_count": null,
   "metadata": {},
   "outputs": [],
   "source": [
    "def metodo(arg1, arg2, arg3):\n",
    "    print(\"arg1: {}\".format(arg1))\n",
    "    print(\"arg2: {}\".format(arg2))\n",
    "    print(\"arg3: {}\".format(arg3))\n",
    "\n",
    "kwargs = {\"arg3\": 3, \"arg2\": \"two\"}\n",
    "metodo(1, **kwargs)"
   ]
  },
  {
   "cell_type": "markdown",
   "metadata": {},
   "source": [
    "De forma casi análoga, `*args` se refiere a un _non-keyworded variable length argument list_, donde el operador `*` desempaqueta el contenido del iterable `args` y los pasa a la función como argumentos posicionales. La principal diferencia es que la lista de argumentos contiene simplemente los valores, sin los keywords (guardada en una lista):"
   ]
  },
  {
   "cell_type": "code",
   "execution_count": null,
   "metadata": {},
   "outputs": [],
   "source": [
    "def metodo2(f_arg, *argv):\n",
    "    print(\"primer arg normal: {}\".format(f_arg))\n",
    "    for arg in argv:\n",
    "        print(\"siguiente argumento de *argv : {}\".format(arg))\n",
    "\n",
    "metodo2('hola','como','va','todo')"
   ]
  },
  {
   "cell_type": "markdown",
   "metadata": {},
   "source": [
    "Otro ejemplo:"
   ]
  },
  {
   "cell_type": "code",
   "execution_count": null,
   "metadata": {},
   "outputs": [],
   "source": [
    "def funcion(a=0, b=0):\n",
    "    return a+b\n",
    "\n",
    "# Usando solo un valor posicional y el resto usa los argumentos por defecto\n",
    "valores = (1,)\n",
    "print(funcion(*valores))\n",
    "\n",
    "# Usando todos los argumentos posicionales definidos en la lista\n",
    "valores = (1,2)\n",
    "print(funcion(*valores))\n",
    "\n",
    "# La función necesita dos argumentos, por lo tanto el exceso de argumentos posicionales genera un error.\n",
    "valores = (1,2,3)\n",
    "print(funcion(*valores))"
   ]
  },
  {
   "cell_type": "markdown",
   "metadata": {},
   "source": [
    "Cuando usamos en una llamada `*args` y `**kwargs` juntos, se debe usar el siguiente orden: `alguna_funcion(f_args,*args,**kwargs)`(por qué?)"
   ]
  },
  {
   "cell_type": "code",
   "execution_count": null,
   "metadata": {},
   "outputs": [],
   "source": [
    "class AddressHolder:\n",
    "    def __init__(self, calle='', ciudad='', numero='', comuna='',**kwargs):\n",
    "        super().__init__(**kwargs)\n",
    "        self.calle = calle\n",
    "        self.ciudad = ciudad\n",
    "        self.comuna = comuna\n",
    "        self.numero = numero\n",
    "\n",
    "\n",
    "class Contacto:\n",
    "\n",
    "    contactos_list = []\n",
    "\n",
    "    def __init__(self, nombre = '', email = '', **kwargs):\n",
    "        super().__init__(**kwargs)\n",
    "        self.nombre = nombre\n",
    "        self.email = email\n",
    "        Contacto.contactos_list.append(self)\n",
    "\n",
    "\n",
    "class Cliente(Contacto, AddressHolder):#Notar aquí que la clase Contacto fue involucrada (a posterior)\n",
    "                                       #en un contexto de multiherencia\n",
    "    def __init__(self, telefono='', **kwargs):\n",
    "        super().__init__(**kwargs)\n",
    "        self.telefono = telefono\n",
    "\n",
    "print(Cliente.__mro__)"
   ]
  },
  {
   "cell_type": "code",
   "execution_count": null,
   "metadata": {},
   "outputs": [],
   "source": [
    "c = Cliente(nombre = 'Juan Perez', email = 'jp@gmail.com', telefono = '23542331',\n",
    "            calle = 'Pedro de Valdivia', numero = '231', comuna = 'Providencia', ciudad = 'Santiago')\n",
    "\n",
    "print(\"{}, {}, {}, {}\".format(c.nombre, c.email, c.calle, c.comuna))"
   ]
  }
 ],
 "metadata": {
  "kernelspec": {
   "display_name": "Python 3",
   "language": "python",
   "name": "python3"
  },
  "language_info": {
   "codemirror_mode": {
    "name": "ipython",
    "version": 3
   },
   "file_extension": ".py",
   "mimetype": "text/x-python",
   "name": "python",
   "nbconvert_exporter": "python",
   "pygments_lexer": "ipython3",
   "version": "3.6.7"
  }
 },
 "nbformat": 4,
 "nbformat_minor": 1
}
