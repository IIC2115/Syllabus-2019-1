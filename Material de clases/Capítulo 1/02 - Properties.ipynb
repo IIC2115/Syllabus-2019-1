{
 "cells": [
  {
   "cell_type": "markdown",
   "metadata": {},
   "source": [
    "<p>\n",
    "<font size='5' face='Georgia, Arial'>IIC-2115 Programación como herramienta para la ingeniería</font><br>\n",
    "<font size='1'>Basado en: &copy; 2015 Karim Pichara - Christian Pieringer. Todos los derechos reservados.</font>\n",
    "</p>"
   ]
  },
  {
   "cell_type": "markdown",
   "metadata": {},
   "source": [
    "# Properties\n",
    "\n",
    "Las _properties_ se usan en muchos lenguajes de programación para asegurar el principio de encapsulación. Con el keyword `property` podemos hacer que métodos parezcan atributos."
   ]
  },
  {
   "cell_type": "markdown",
   "metadata": {},
   "source": [
    "## ¿Cuándo usar properties?\n",
    "\n",
    "Una _property_ funciona como un atributo, pero podemos hacer que se ejecuten acciones automáticamente cuando ésta es obtenida, _seteada_ o eliminada.\n",
    "\n",
    "Un típico ejemplo de acción invocada es cuando hacemos _caching_ de una página web. Esto ocurre cuando nuestro navegador guarda contenido del sitio, para no tener que descargarlo cada vez que se accede a él. \n",
    "\n",
    "En nuestro ejemplo, un atributo que corresponde al contenido de una página web. Si un usuario accede al contenido por primera vez, descargamos el contenido y lo guardarmos. De esta forma, en los próximos accesos podemos retornar el contenido guardado sin la necesidad de bajarlo de nuevo."
   ]
  },
  {
   "cell_type": "code",
   "execution_count": null,
   "metadata": {},
   "outputs": [],
   "source": [
    "from urllib.request import urlopen\n",
    "\n",
    "class WebPage:\n",
    "    def __init__(self, url):\n",
    "        self.url = url\n",
    "        self._content = None\n",
    "        \n",
    "    @property\n",
    "    def content(self):\n",
    "        if not self._content:\n",
    "            print(\"Obteniendo Página Web...\")\n",
    "            self._content = urlopen(self.url).read()\n",
    "        return self._content"
   ]
  },
  {
   "cell_type": "code",
   "execution_count": null,
   "metadata": {},
   "outputs": [],
   "source": [
    "import time\n",
    "page = WebPage(\"http://www.puc.cl\")\n",
    "now = time.time() #Return the time in seconds\n",
    "contenido_1 = page.content\n",
    "print(\"Tiempo en obtener la página por primera vez: {}\".format(time.time() - now))\n",
    "now = time.time()\n",
    "contenido_2 = page.content\n",
    "print(\"Tiempo en obtener la página por segunda vez: {}\".format(time.time() - now))\n",
    "contenido_1 == contenido_2 #verificamos que el contenido sea el mismo"
   ]
  },
  {
   "cell_type": "markdown",
   "metadata": {},
   "source": [
    "Otra forma de usar _properties_ es definiendo los métodos y luego asignarlos a una variable usando el método `property`."
   ]
  },
  {
   "cell_type": "code",
   "execution_count": null,
   "metadata": {},
   "outputs": [],
   "source": [
    "class Email:\n",
    "    \n",
    "    def __init__(self, address):\n",
    "        self._email = address\n",
    "        \n",
    "    def _set_email(self, value):\n",
    "        if '@' not in value:\n",
    "            print(\"Esto no parece una dirección de correo.\")\n",
    "        else:\n",
    "            self._email = value\n",
    "\n",
    "    def _get_email(self):\n",
    "        return self._email\n",
    "    \n",
    "    def _del_email(self):\n",
    "        print(\"Eliminaste el correo!!\")\n",
    "        del self._email    \n",
    "\n",
    "    email = property(_get_email, _set_email, _del_email, \"Esta propiedad corresponde al correo...\")"
   ]
  },
  {
   "cell_type": "code",
   "execution_count": null,
   "metadata": {},
   "outputs": [],
   "source": [
    "help(Email)"
   ]
  },
  {
   "cell_type": "code",
   "execution_count": null,
   "metadata": {},
   "outputs": [],
   "source": [
    "m1 = Email(\"kp1@gmail.com\")\n",
    "print(m1.email)\n",
    "m1.email = \"kp2@gmail.com\"\n",
    "print(m1.email)\n",
    "m1.email = \"kp2.com\"\n",
    "del m1.email"
   ]
  },
  {
   "cell_type": "markdown",
   "metadata": {},
   "source": [
    "Ojo que el código no nos prohibe hacer lo siguiente:"
   ]
  },
  {
   "cell_type": "code",
   "execution_count": null,
   "metadata": {},
   "outputs": [],
   "source": [
    "m1._email = \"kp3.com\"  # Puedo acceder directamente al atributo _email saltándome el método _set_email\n",
    "print(m1._email)\n",
    "print(id(m1._email))\n",
    "print(m1.email)\n",
    "print(id(m1.email))  # la property es simplemente una referencia al mismo atributo _email, tienen la misma dirección de memoria\n",
    "m1.email = \"kp3.com\"  # Si trato de modificar la property directamente pasa por el método _set_email"
   ]
  },
  {
   "cell_type": "markdown",
   "metadata": {},
   "source": [
    "Esto atenta contra el principio de encapsulación, ya que permite hacer la misma acción de más una manera. ¿Cómo podríamos corregir esto? (Hint: _name manging_)"
   ]
  },
  {
   "cell_type": "markdown",
   "metadata": {},
   "source": [
    "La forma típica (y preferible) de usar _properties_ es usar decoradores (veremos decoradores en detalle más adelante). Ejemplo: Para la clase Color usemos una property primero sin decorador."
   ]
  },
  {
   "cell_type": "code",
   "execution_count": null,
   "metadata": {},
   "outputs": [],
   "source": [
    "class Color:  # version sin decorador\n",
    "    \n",
    "    def __init__(self, rgb_code, nombre):\n",
    "        self.rgb_code = rgb_code\n",
    "        self._nombre = nombre\n",
    "        \n",
    "    def set_nombre(self, nombre):\n",
    "        self._nombre = nombre\n",
    "        \n",
    "    def get_nombre(self):\n",
    "        return self._nombre\n",
    "        \n",
    "        \n",
    "    nombre = property(get_nombre, set_nombre)"
   ]
  },
  {
   "cell_type": "code",
   "execution_count": null,
   "metadata": {},
   "outputs": [],
   "source": [
    "c = Color(\"#ff0000\", \"red\")\n",
    "print(c.nombre)"
   ]
  },
  {
   "cell_type": "markdown",
   "metadata": {},
   "source": [
    "<h3>Ahora la misma clase con decorador:</h3>"
   ]
  },
  {
   "cell_type": "code",
   "execution_count": null,
   "metadata": {},
   "outputs": [],
   "source": [
    "class Color:  # version con decorador\n",
    "    \n",
    "    def __init__(self, rgb_code, nombre):\n",
    "        self.rgb_code = rgb_code\n",
    "        self._nombre = nombre\n",
    "    \n",
    "    @property \n",
    "    def nombre(self):\n",
    "        print(\"Obteniendo el nombre del color\")\n",
    "        return self._nombre\n",
    "        \n",
    "    @nombre.setter    \n",
    "    def nombre(self, valor):\n",
    "        print(\"Estas seteando el valor en {}\".format(valor))\n",
    "        self._nombre = valor\n",
    "        \n",
    "    @nombre.deleter\n",
    "    def nombre(self):\n",
    "        print(\"Eliminaste el nombre!!\")\n",
    "        del self._nombre\n",
    "        "
   ]
  },
  {
   "cell_type": "code",
   "execution_count": null,
   "metadata": {},
   "outputs": [],
   "source": [
    "c = Color(\"#ff0000\", \"red\")\n",
    "c.nombre = \"azul\"\n",
    "print(c.nombre)\n",
    "del c.nombre\n"
   ]
  },
  {
   "cell_type": "markdown",
   "metadata": {},
   "source": [
    "Las properties con decoradores también pueden involucar acciones que dependen de variables de la clase:"
   ]
  },
  {
   "cell_type": "code",
   "execution_count": null,
   "metadata": {},
   "outputs": [],
   "source": [
    "class Circulo:\n",
    "    \n",
    "    def __init__(self, radio):\n",
    "        self._radio = radio\n",
    "\n",
    "    @property\n",
    "    def area(self):\n",
    "        return self._radio**2 * 3.14\n"
   ]
  },
  {
   "cell_type": "code",
   "execution_count": null,
   "metadata": {},
   "outputs": [],
   "source": [
    "c = Circulo(2)\n",
    "print(c._radio)\n",
    "print(c.area)\n",
    "c._radio = 4\n",
    "print(c._radio)\n",
    "print(c.area)"
   ]
  }
 ],
 "metadata": {
  "kernelspec": {
   "display_name": "Python 3",
   "language": "python",
   "name": "python3"
  },
  "language_info": {
   "codemirror_mode": {
    "name": "ipython",
    "version": 3
   },
   "file_extension": ".py",
   "mimetype": "text/x-python",
   "name": "python",
   "nbconvert_exporter": "python",
   "pygments_lexer": "ipython3",
   "version": "3.6.7"
  }
 },
 "nbformat": 4,
 "nbformat_minor": 1
}
