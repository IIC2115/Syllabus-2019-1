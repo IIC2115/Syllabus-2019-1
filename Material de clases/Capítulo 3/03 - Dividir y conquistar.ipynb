{
 "cells": [
  {
   "cell_type": "markdown",
   "metadata": {},
   "source": [
    "<p>\n",
    "    <font size='5' face='Georgia, Arial'>IIC2115 - Programación como herramienta para la ingeniería</font><br>\n",
    "    <font size='1'>Basado en el material descrito en http://brilliant.org.</font>\n",
    "</p>"
   ]
  },
  {
   "cell_type": "markdown",
   "metadata": {},
   "source": [
    "# Dividir y conquistar\n",
    "\n",
    "Dividir y conquistar es una forma de dividir problemas complejos en problemas más pequeños que son más fáciles de resolver, y luego combinar las respuestas para resolver el problema original. Dividir y conquistar es una poderosa técnica de diseño de algoritmos que se usa para resolver muchos problemas importantes, como el cálculo de números de Fibonacci o la multiplicación de matrices. También hay muchos problemas que los humanos usan de forma natural enfoques de dividir y conquistar para resolver, como ordenar una pila de cartas o buscar un número de teléfono en una guía telefónica.\n",
    "\n",
    "Dividir y conquistar se puede resumir en tres grandes pasos, dividir (en subproblemas), conquistar (resolviendo los subproblemas) y combinar (las respuestas para resolver el problema original). Dividir y conquistar tiene un paso recursivo, donde se resuelven los subproblemas, y un caso base, que es el punto donde el problema no se puede dividir más."
   ]
  },
  {
   "cell_type": "markdown",
   "metadata": {},
   "source": [
    "## La intuición tras dividir y conquistar\n",
    "\n",
    "### ¿Cómo se puede ordenar un mazo de naipes?\n",
    "\n",
    "Hay muchos ejemplos de problemas para los cuales los humanos naturalmente toman un enfoque de dividir y conquistar. Digamos que tenemos un mazo de cartas que queremos ordenar. Ordenar todo el mazo es el problema original, pero podemos dividirlo en subproblemas comparando solo algunas de las cartas a la vez.\n",
    "\n",
    "Para hacer esto, tomamos la primera y la segunda carta del mazo y las ordenamos, formando un nuevo mazo ordenado de 2 cartas. Luego tomamos otra carta del mazo y la ubicamos en la posición correspondiente del submazo ordenado. Seguimos haciendo esto hasta que se haya ordenado todo el mazo. Aquí, nos dividimos en subproblemas clasificando solo algunas de las cartas a la vez. En cada paso, tomamos una carta de la lista desordenada (el paso dividir) y la colocamos en la lista ordenada (esto conforma los pasos de conquista y combinación).\n",
    "\n",
    "### Dividir: \n",
    "El paso dividir, divide el problema original en subproblemas que son instancias más pequeñas del problema original.\n",
    "\n",
    "### Conquistar: \n",
    "El paso de conquista resuelve los subproblemas recursivamente.\n",
    "\n",
    "### Combinar: \n",
    "El paso combinador, combina los subproblemas resueltos para resolver el problema original."
   ]
  },
  {
   "cell_type": "markdown",
   "metadata": {},
   "source": [
    "## Reducir y conquistar\n",
    "\n",
    "Reducir y conquistar es una variación de dividir y conquistar, donde el problema se reduce a un subproblema. La búsqueda binaria es un ejemplo popular que usa reducir y conquistar. La búsqueda binaria busca en una lista ordenada para ver si un elemento deseado está en la lista. Lo hace de manera eficiente reduciendo a la mitad el espacio de búsqueda durante cada iteración del programa. Básicamente, la búsqueda binaria encuentra el centro de la lista, pregunta \"¿el elemento que estoy buscando es más grande o más pequeño que esto?\" Y luego corta la lista por la mitad y busca solo en la lista de la izquierda si el elemento es más pequeño, y en la lista derecha si el elemento es más grande. Este proceso se repite hasta que se encuentra el elemento que está buscando (o se informa que el elemento no está en la lista).\n",
    "\n",
    "\n",
    "### Ejemplo: ¿cómo encontrar la página 88 en un libro de 350 páginas?\n",
    "\n",
    "Abrir el libro en cualquier página. Si la página que se ha abierto es mayor que 88, pasar algunas páginas hacia el principio del libro (o algunas páginas hacia el final del libro si el número de página es menor que 88). Ahora mirar el nuevo número de página al que se ha llegado. Si el número es menor que 88, pasar una cierta cantidad hacia el final del libro (la cantidad que se pase disminuirá con cada iteración, ya que no se desea perder el progreso por exceso), y si el número es mayor que 88 , voltea un número de páginas hacia el comienzo del libro. Repetir hasta encontrar la página 88."
   ]
  },
  {
   "cell_type": "markdown",
   "metadata": {},
   "source": [
    "## Implementación\n",
    "Como se mencionó anteriormente, el algoritmo de búsqueda binaria es un ejemplo clasico de dividir (reducir) y conquistar. Su objetivo es encontrar un número entero en particular, en una lista ordenada de enteros. La búsqueda binaria divide el arreglo progresivamente en mitades, hasta que encuentra el valor requerido, y retorna su posición en el arreglo original."
   ]
  },
  {
   "cell_type": "code",
   "execution_count": null,
   "metadata": {},
   "outputs": [],
   "source": [
    "def binarySearch(mylist, target):\n",
    "        first = 0\n",
    "        last = len(mylist)-1\n",
    "\n",
    "        while first<=last:\n",
    "            midpoint = int((first + last)/2)\n",
    "            if mylist[midpoint] == target:\n",
    "                return midpoint\n",
    "            else:\n",
    "                if target < mylist[midpoint]:\n",
    "                    last = midpoint-1\n",
    "                else:\n",
    "                    first = midpoint+1\n",
    "\n",
    "        return None\n",
    "\n",
    "test_list = [0,3,4,7,9,11,34,46,57,65]\n",
    "print(binarySearch(test_list, 4))\n",
    "print(binarySearch(test_list, 30))\n",
    "print(binarySearch(test_list, 57))"
   ]
  }
 ],
 "metadata": {
  "kernelspec": {
   "display_name": "Python 3",
   "language": "python",
   "name": "python3"
  },
  "language_info": {
   "codemirror_mode": {
    "name": "ipython",
    "version": 3
   },
   "file_extension": ".py",
   "mimetype": "text/x-python",
   "name": "python",
   "nbconvert_exporter": "python",
   "pygments_lexer": "ipython3",
   "version": "3.6.3"
  }
 },
 "nbformat": 4,
 "nbformat_minor": 2
}
