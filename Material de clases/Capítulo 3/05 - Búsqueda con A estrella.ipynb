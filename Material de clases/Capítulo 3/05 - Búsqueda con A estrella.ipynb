{
 "cells": [
  {
   "cell_type": "markdown",
   "metadata": {},
   "source": [
    "<p>\n",
    "    <font size='5' face='Georgia, Arial'>IIC2115 - Programación como herramienta para la ingeniería</font><br>\n",
    "    <font size='1'>Basado en el material descrito en http://brilliant.org.</font>\n",
    "</p>"
   ]
  },
  {
   "cell_type": "markdown",
   "metadata": {},
   "source": [
    "# Búsqueda con A*\n",
    "$A^*$ (pronunciado __A estrella__) es un algoritmo que se utiliza ampliamente en la búsqueda de rutas y recorrido de grafos. El algoritmo traza de manera eficiente una ruta accesible entre múltiples nodos, o puntos, en el grafo.\n",
    "\n",
    "En un mapa con muchos obstáculos, encontrar el camino entre dos puntos $a$ y $b$ puede ser difícil. Un robot, por ejemplo, sin obtener demasiada dirección, continuará hasta que encuentre un obstáculo, como en el ejemplo de búsqueda de ruta que se presenta a continuación:\n",
    "\n",
    "<img src=\"figs/non_efficient_search.png\" style=\"width: 400px;\"/>\n",
    "\n",
    "\n",
    "Para evitar este tipo de situaciones, el algoritmo $A^*$ introduce una heurística en el algoritmo de búsqueda en grafos tradicional, esencialmente planeando en cada paso para que se tome la decisión óptima. Con $A^*$, un robot encontraría una ruta de una manera similar al diagrama a continuación.\n",
    "\n",
    "<img src=\"figs/A _search.png\" style=\"width: 400px;\"/>"
   ]
  },
  {
   "cell_type": "markdown",
   "metadata": {},
   "source": [
    "## El algoritmo\n",
    "$A^*$ funciona construyendo un árbol de ruta de mínimo costo desde el nodo de inicio al nodo de destino. Lo que hace que $A^*$ sea diferente y mejor para muchas búsquedas, es que para cada nodo, $A^*$ usa una función $f(n)$, que proporciona una __estimación__ del costo total de una ruta usando ese nodo. Por lo tanto, $A^*$ se puede ver como una función heurística, que difiere de un algoritmo en que una heurística es más una estimación y no es demostrablemente correcta.\n",
    "\n",
    "$A^*$ expande rutas, que ya fueron consideradas menos costosas por el algoritmo, al usar la siguiente función:\n",
    "\n",
    "$$f(n) = g(n) + h(n)$$\n",
    "\n",
    "donde\n",
    "*$f(n)=$ costo total estimado del camino pasando por el nodo $n$.\n",
    "*$g(n)=$ cost acumulado de llegar a $n$.\n",
    "*$h(n)=$ costo estimado de ir desde $n$ al nodo de destino. Esta es la parte heurística de la función de costo.\n",
    "\n",
    "<img src=\"figs/A _grid.png\" style=\"width: 500px;\"/>\n",
    "\n",
    "En la grilla de arriba, $A^*$ comienza  en el nodo rojo y considera todas las celdas adyacentes. Una vez que la lista de celdas adyacentes ha sido poblada, filtra aquellas que son inaccesibles (muros, obstáculos, fuera de límites). A continuación, selecciona la celda con el costo más bajo, que es el valor de $f(n)$ estimado. Este proceso se repite recursivamente hasta que se haya encontrado el camino más corto hasta el objetivo (nodo azul). El cálculo de $f(n)$ se realiza a través de una heurística que generalmente da buenos resultados.\n",
    "\n",
    "En este caso, el cálculo de $h(n)$ se puede hacer de dos maneras:\n",
    "* La distancia de Manhattan (explicada a continuación) desde el nodo $n$ hasta el objetivo es la que se usa habitualmente. Esta es una heurística estándar para una grilla.\n",
    "* Si $h(n)=0$, $A^*$ se convierte en el algoritmo de Dijkstra, que garantiza encontrar la ruta más corta, pero seguramente expandiendo más nodos que $A^*$.\n",
    "\n",
    "La restricción más importante de $A^*$, es que la función heurística debe ser admisible, lo que significa que nunca puede sobreestimar el costo para alcanzar la meta. Tanto la distancia de Manhattan como $h(n)=0$ son admisibles para este caso."
   ]
  },
  {
   "cell_type": "markdown",
   "metadata": {},
   "source": [
    "## Heurísticas\n",
    "Usar una buena heurística es importante para determinar el rendimiento de $A^*$. El valor de $h(n)$ podría ser idealmente igual al costo exacto de llegar al destino. Esto, sin embargo, no es posible porque ni siquiera conocemos el camino. Sin embargo, podemos elegir un método que nos proporcione el valor exacto en algunas ocasiones, como cuando viajamos en línea recta sin obstáculos. Esto dará como resultado un rendimiento perfecto de $A^*$.\n",
    "\n",
    "Queremos seleccionar una función $h(n)$ que sea menor que el costo de alcanzar nuestro objetivo. Esto permitirá que $h$ funcione con precisión, ya que si seleccionamos un valor de $h$ que sea mayor, se obtendrá una convergencia más rápida, pero menos precisa en función del costo mínimo. Por lo tanto, generalmente elegimos un $h(n)$ que es menor que el costo real.\n",
    "\n",
    "### Distancia Manhattan\n",
    "Este heurística se denomina de Manhattan, porque se calcula en base al número total de cuadrados movidos horizontal y verticalmente para alcanzar el cuadrado objetivo, desde el cuadrado actual. Ignoramos el movimiento diagonal y cualquier obstáculo que pueda estar en el camino.\n",
    "\n",
    "$$h = \\lvert x_{inicio}-x_{fin}\\rvert + \\lvert y_{inicio}-y_{fin}\\rvert$$\n",
    "\n",
    "Esta heurística es exacta cada vez que nuestro camino sigue una línea recta. Es decir, $A^*$ encontrará caminos que son combinaciones de movimientos en línea recta.\n",
    "\n",
    "<img src=\"figs/manhattan.png\" style=\"width: 300px;\"/>\n",
    "\n",
    "### Distancia Euclidiana\n",
    "Esta heurística es ligeramente más precisa que la de Manhattan. Si intentamos ejecutar ambos simultáneamente en el mismo laberinto, el buscador de ruta euclidiano favorece un camino a lo largo de una línea recta. Esto es más preciso, pero también es más lento porque tiene que explorar un área más grande para encontrar el camino.\n",
    "\n",
    "$$h = \\sqrt{\\left(x_{inicio}-x_{fin}\\right)^2 + \\left(y_{inicio}-y_{fin}\\right)^2}$$\n",
    "\n",
    "<img src=\"figs/euclidean.jpg\" style=\"width: 300px;\"/>"
   ]
  },
  {
   "cell_type": "markdown",
   "metadata": {},
   "source": [
    "## Implementación de A*\n",
    "A continuación se presenta una implementación de $A^*$ en pseudocódigo con sintáxis de Python:\n",
    "\n",
    "`\n",
    "hacer una lista abierta que contenga solo el nodo inicial\n",
    "hacer una lista cerrada vacía\n",
    "while (el nodo de destino no ha sido alcanzado):\n",
    "    considere el nodo con el puntaje f más bajo en la lista abierta\n",
    "    if (este nodo es nuestro nodo de destino):\n",
    "        terminamos\n",
    "    else:\n",
    "        poner el nodo actual en la lista cerrada y mirar a todos sus vecinos\n",
    "        for (cada vecino in nodo actual):\n",
    "            if (vecino tiene un valor g menor que el actual y está en la lista cerrada):\n",
    "                reemplace al vecino con el valor nuevo, más bajo de g\n",
    "                el nodo actual es ahora el padre del vecino\n",
    "            elif (el valor de g actual es menor y este vecino está en la lista abierta):\n",
    "                reemplace al vecino con el valor nuevo y más bajo de g\n",
    "                cambiar el padre del vecino a nuestro nodo actual\n",
    "            else si este vecino no está en ambas listas:\n",
    "                agréguelo a la lista abierta y calcule su g\n",
    "`\n",
    "\n",
    "La complejidad de ejecución de $A^*$ depende de la heurística. En el peor de los casos, la cantidad de nodos expandidos es exponencial en la longitud de la solución (la ruta más corta), pero es polinomial cuando el espacio de búsqueda es un árbol.\n",
    "\n",
    "Puede encontrar una excelente implementación genérica en Python de $A^*$, con ejemplos incluidos, clonando el siguiente repositorio: https://github.com/jrialland/python-astar."
   ]
  },
  {
   "cell_type": "markdown",
   "metadata": {},
   "source": [
    "## Ejemplo de aplicación\n",
    "Use $A^*$ para encontrar la ruta más corta desde el cuadrado verde al cuadrado amarillo en la grilla de abajo.\n",
    "\n",
    "<img src=\"figs/A _map.png\" style=\"width: 400px;\"/>\n",
    "\n",
    "Comencemos por elegir una heurística admisible. Para este caso, podemos usar la distancia de Manhattan. Luego procedemos a la celda inicial. La llamamos nuestra `celda actual` y luego procedemos a mirar a todos sus vecinos y calculamos $f, g\\text{ y } h$ para cada uno de ellos. Luego seleccionamos el vecino con el menor costo $f$. Esta es nuestra nueva `celda actual` y luego repetimos el proceso anterior (expandir los vecinos y calcular $f,g \\text{ y } h$, y elegir el más bajo). Hacemos esto hasta que estemos en la celda de objetivo. La siguiente imagen muestra cómo se realiza la búsqueda. En cada celda, se muestran los valores respectivos de $f,g \\text{ y } h$. Recuerde $g$ es el costo que se ha acumulado al llegar a la celda y $h$ es la distancia de Manhattan hacia la celda amarilla, mientras que $f$ es la suma de $g$ y $h$.\n",
    "\n",
    "<img src=\"figs/A _example.gif\" style=\"width: 400px;\"/>"
   ]
  }
 ],
 "metadata": {
  "kernelspec": {
   "display_name": "Python 3",
   "language": "python",
   "name": "python3"
  },
  "language_info": {
   "codemirror_mode": {
    "name": "ipython",
    "version": 3
   },
   "file_extension": ".py",
   "mimetype": "text/x-python",
   "name": "python",
   "nbconvert_exporter": "python",
   "pygments_lexer": "ipython3",
   "version": "3.6.3"
  }
 },
 "nbformat": 4,
 "nbformat_minor": 2
}
