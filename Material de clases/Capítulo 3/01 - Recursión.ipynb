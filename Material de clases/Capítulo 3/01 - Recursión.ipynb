{
 "cells": [
  {
   "cell_type": "markdown",
   "metadata": {},
   "source": [
    "<p>\n",
    "<font size='5' face='Georgia, Arial'>IIC2115 - Programación como herramienta para la ingeniería</font><br>\n",
    "</p>"
   ]
  },
  {
   "cell_type": "markdown",
   "metadata": {},
   "source": [
    "# Recursión\n",
    "\n",
    "La recursión es uno de los elementos fundamentales de la computación y nos permite encontrar, generalmente, soluciones compactas y elegantes a los problemas. En esta sección describiremos distintas formas de **recursión** para construir algoritmos. Escribir algoritmos recursivos requiere práctica y muchas veces la solución es menos eficiente que las de un simple algoritmo iterativo, pero como veremos al final de esta sección, existen problemas para los cuales escribir un algoritmo iterativo es complejo, donde la recursión, a pesar de ser menos eficiente en cuanto al uso de recursos, permite definir una solución natural y entendible."
   ]
  },
  {
   "cell_type": "markdown",
   "metadata": {},
   "source": [
    "## Recursión e iteración lineal\n",
    "\n",
    "Comencemos el análisis considerando la función **factorial** definida de la siguiente manera:\n",
    "\n",
    "\\begin{equation*}\n",
    "    n! = n\\cdot (n-1) \\cdot (n-2) \\cdots \\ 3 \\cdot 2 \\cdot 1\n",
    "\\end{equation*}\n",
    "\n",
    "Existen muchas maneras de calcular el valor de esta función. Una posible es usar el hecho que \n",
    "\n",
    "\\begin{equation*}\n",
    "    n! = \\left[(n-1) \\cdot (n-2) \\cdots \\ 3 \\cdot 2 \\cdot 1 \\right] = n\\cdot (n-1)!,\n",
    "\\end{equation*}\n",
    "\n",
    "para cualquier entero positivo $n$. Si a esta última definición le agregamos la condición que $1! = 1$, podemos traspasar todo directamente a una función:"
   ]
  },
  {
   "cell_type": "code",
   "execution_count": null,
   "metadata": {},
   "outputs": [],
   "source": [
    "def factorial_recursivo(n):\n",
    "    if n == 1:\n",
    "        return 1\n",
    "    return n*factorial_recursivo(n-1)\n",
    "\n",
    "factorial_recursivo(5)"
   ]
  },
  {
   "cell_type": "markdown",
   "metadata": {},
   "source": [
    "Enfrentemos ahora de una manera distinta el cálculo del factorial de un número. Podríamos describir una regla para calcular $n!$, especificando que primero multiplicamos $1$ por $2$, luego el resultado por $3$, después por $4$, y así sucesivamente hasta llegar a $n$. Formalmente, mantendríamos como variables un producto acumulado, junto con un contador que va de $1$ a $n$. El algoritmo podría describirse diciendo que tanto el contador como el producto son simultaneamente actualizados de un paso al siguiente, de acuerdo a la siguiente regla:\n",
    "\n",
    "\\begin{align*}\n",
    "    producto &= contador \\cdot producto \\\\\n",
    "    contador &= contador + 1\n",
    "\\end{align*}\n",
    "\n",
    "y especificando que el resultado, $n!$ es el valor de la variable $producto$, cuando el contador excede el valor de $n$."
   ]
  },
  {
   "cell_type": "markdown",
   "metadata": {},
   "source": [
    "Nuevamente, podemos escribir código en Python siguiendo la regla recién descrita:"
   ]
  },
  {
   "cell_type": "code",
   "execution_count": null,
   "metadata": {},
   "outputs": [],
   "source": [
    "def factorial_iterativo(n):\n",
    "    contador, producto = 1, 1\n",
    "    while contador <= n:\n",
    "        producto *= contador\n",
    "        contador += 1\n",
    "    return producto\n",
    "\n",
    "factorial_iterativo(5)"
   ]
  },
  {
   "cell_type": "markdown",
   "metadata": {},
   "source": [
    "Al comparar ambos modos de solucionar el problema, podemos notar que desde el punto de la secuencia de resultados parciales que generan, ambos son idénticos. Más aún, ambos utilizan la misma operación (producto), y además toman la misma cantidad de pasos para obtener el resultados. Sólo al analizar el modo en que se *gestan* las operaciones, notamos las diferencias fundamentales entre ambas maneras de resolver el problema.\n",
    "\n",
    "Consideremos inicialmente el caso de la recursión. El algoritmo funciona generando una serie de llamadas a la función `factorial_recursivo`, con la particularidad que sólo una de ellas (la última) retorna inmediatamente el resultado. Una vez que esta retorna el resultado, la penúltima llamada es también capaz de retornar un resultado, y así sucesivamente. Esto es análogo a apilar llamadas sucesivas a la misma función en un *stack*, donde sólo podemos obtener el retorno de una, si conocemos el retorno de la que está inmediatamente encima de ella. Así, basta con obtener el valor de retorno de la llamada que está en el tope el stack (caso base donde n==1), para obtener el valor de retorno de todas. Este tipo de recursión es conocida como **recursión lineal**, donde la *cadena* de llamadas a funciones que esperan para generar su valor de retorno (funciones en el stack), tiene un tamaño proporcional al valor del parámetro entregado a la primera llamada a la función, en este caso, $n$.\n",
    "\n",
    "Por el contrario, en el caso de `factorial_iterativo`, no existe nada parecido a una cadena de llamadas a funciones en espera. Sólo se tiene un conjunto de variables, donde se mantienen y actualizan los valores relevantes para la solución. Este tipo de procedimiento se conoce como proceso **iterativo_lineal**, donde la cantidad de pasos (iteraciones) necesaria para solucionar el problema es proporcional al valor del parámetro de entrada a la función $n$, pero a diferencia de la **recursión lineal**, el estado actual se puede resumir en un conjunto fijo de variables y una cantidad fija de reglas que definen como cambia el estado de las variables durante la ejecución.\n",
    "\n",
    "Otra manera de contrastar las diferencias entre ambos esquemas es notar que, en el caso del proceso iterativo, la variables contienen una descripción completa de la solución parcial. Esto significa que si el programa es detenido luego de una iteración,  todo lo que se necesita para volver a ejecutar son los valores almacenados en las variables. Por el contrario, para la recursión, si el procedimiento es detenido antes de ejecutar un nuevo paso (llamado recursivo a una función), la información no está contenido en ninguna variable. Para este caso, la información se encuentra *escondida*, y es manejada por el interprete del lenguaje, en este caso, Python. Mientras más larga sea la cadena de llamados a funciones, mayor es la cantidad de información *escondida*."
   ]
  },
  {
   "cell_type": "markdown",
   "metadata": {},
   "source": [
    "Para terminar con la recursión lineal, consideremos el problema de decidir si un número es primo o no. Recordemos que un número entero $n$ es primo si y sólo si $n\\geq 2$ y los únicos factores de $n$ son el 1 y $n$. Una manera de solucionar este problema es por medio de fuerza bruta, probando cada entero en el rango $[2,n-1]$ y verificar si alguno de estos divide a $n$ sin generar resto. Podemos implementar esto recursivamente en Python, de la siguiente manera:"
   ]
  },
  {
   "cell_type": "code",
   "execution_count": null,
   "metadata": {},
   "outputs": [],
   "source": [
    "def factor_en_rango(k, n):\n",
    "   if k >= n:   \n",
    "      return False                   \n",
    "   elif (n % k) == 0:             \n",
    "      return True                  \n",
    "   else:                        \n",
    "      return factor_en_rango(k+1, n)\n",
    "      \n",
    "def es_primo(n):\n",
    "   return (n > 1) and not factor_en_rango(2, n)\n",
    "\n",
    "es_primo(917)"
   ]
  },
  {
   "cell_type": "markdown",
   "metadata": {},
   "source": [
    "Tal como en el caso del factorial, es posible notar que no se utilizan variables y que el número de llamadas recursivas en espera de poder retornar, es una cantidad proporcional al valor de entrada."
   ]
  },
  {
   "cell_type": "markdown",
   "metadata": {},
   "source": [
    "## Recursión de árbol\n",
    "\n",
    "Otro patrón de cómputo muy común es el de **recursión de árbol**. Como ejemplo, consideremos el cálculo de la secuencia de números de Fibonacci, donde cada número está dado por la suma de los dos anteriores: 0,1,1,2,3,5,8,13,...\n",
    "\n",
    "En general, los números de Fibonacci pueden definirse mediante la siguiente regla:\n",
    "\n",
    "$$fib(n) = \n",
    "\\begin{cases} \n",
    "    0 & n = 0 \\\\\n",
    "    1 & n = 1 \\\\\n",
    "    fib(n-1) + fib(n-2) & en~otro~caso\n",
    "\\end{cases}$$"
   ]
  },
  {
   "cell_type": "markdown",
   "metadata": {},
   "source": [
    "Tal como antes, podemos transformar esto inmediatamente en una función recursiva para calcular los números de Fibonacci:"
   ]
  },
  {
   "cell_type": "code",
   "execution_count": null,
   "metadata": {},
   "outputs": [],
   "source": [
    "def fib(n):\n",
    "    if n == 0:\n",
    "        return 0\n",
    "    elif n == 1:\n",
    "        return 1\n",
    "    else:\n",
    "        return fib(n-2) + fib(n-1)\n",
    "\n",
    "fib(5)"
   ]
  },
  {
   "cell_type": "markdown",
   "metadata": {},
   "source": [
    "Consideremos a continuación de manera visual el patrón de cálculo de la función, representado en la siguiente figura:\n",
    "\n",
    "<img src=\"figs/fibonacci.gif\">\n",
    "\n",
    "Para calcular `fib(5)`, primero se calcula `fib(4)` y `fib(3)`. Para `fib(4)`, calculamos `fib(3)` y `fib(2)`. En general, como se puede apreciar en la figura, la evolución de las llamadas es similar a un árbol. Notemos que los nodos se dividen en 2 en cada nivel (excepto el final), lo que refleja el hecho que `fib` se llama a si mismo dos veces cada vez que es llamada.\n",
    "\n",
    "Este procedimiento es un ejemplo prototípico de recursión de árbol, pero lamentablemente es una pésima manera de calcular los números de Fibonacci, ya que realiza una gran cantidad de trabajo redundante. Notemos en la figura que el cálculo de `fib(3)`, casi la mitad del trabajo, está duplicado. En general, el número de pasos que necesita un proceso con recursión de árbol, será proporcional entonces al número de nodos del árbol (exponencial con respecto al parámetro de entrada), mientras que el espacio requerido será proporcional a la profundidad del árbol.  \n",
    "\n",
    "También es posible formular un proceso iterativo para calcular la secuencia de número de Fibonacci. La idea es usar pares de enteros $a$ y $b$, inicializados como $fib(0) = 0$ y $fib(1) = 1$, respectivamente, y aplicar repetidamente las transformaciones respectivas: \n",
    "\n",
    "\\begin{align*}\n",
    "    a^t &= b^{t-1}\n",
    "    b^t &= a^{t-1} + b^{t-1} \\\\\n",
    "\\end{align*}\n",
    "\n",
    "No es dificil demostrar que, después de aplicar estas transformaciones $n$ veces, $a$ y $b$ serán iguales a $fib(n)$ y $fib(n+1)$, respectivamente. Nuevamente, podemos escribir de manera directa este procedimiento en Python:"
   ]
  },
  {
   "cell_type": "code",
   "execution_count": null,
   "metadata": {},
   "outputs": [],
   "source": [
    "def fib_iterativo(n):\n",
    "    a, b = 0, 1\n",
    "    for contador in range(0, n):\n",
    "        a, b = b, a+b\n",
    "    return a\n",
    "\n",
    "fib_iterativo(5)"
   ]
  },
  {
   "cell_type": "markdown",
   "metadata": {},
   "source": [
    "El método `fib_iterativo` es una iteración lineal. Esto implica que la diferencia entre la cantidad de pasos que toman las dos versiones del algoritmo es enorme (exponencias vs lineal), incluso para valores de entrada pequeños.\n",
    "\n",
    "A partir de esto, es fácil cometer el error de concluir que la recursión de árbol es inútil. A pesar de que generalmente puede resultar menos eficiciente, la recursión de árbol es sumamente práctica para entender y diseñar programas. Por ejemplo, a pesar de ser menos eficiente, la versión recursiva de Fibonacci es más clara e interpretable que la versión iterativa (es un traspaso directo de la definición formal de Fibonacci). Esta última requirió el uso y actualización de tres variables de estado diferentes."
   ]
  },
  {
   "cell_type": "markdown",
   "metadata": {},
   "source": [
    "### Un ejemplo más complejo\n",
    "Finalizaremos esta sección con un ejemplo donde la recursión de árbol se transforma en un herramienta fundamental. Consideremos la siguiente pregunta: ¿Cuántas formas distintas de dar vuelto de \\$100 (cien pesos) existen, si se tienen monedas ilimitadas de \\$50, \\$10, \\$5 y \\$1? O si lo vemos de manera más general, ¿es posible escribir una función que calcule el número de formas en que es posible dar vuelto, dada una cantidad arbitraria de dinero?\n",
    "\n",
    "Como veremos, si resolvemos este problema utiizando un enfoque recursivo, la solución es bastante simple e intuitiva. Supongamos que tenemos los tipos de monedas disponibles ordenadas en algún orden particular. Observemos que la cantidad de formas en que puedo dar vuelto se puede dividir en dos grupos: las que no usan el primer tipo de moneda, y las que sí lo usan. De esta manera, el número total de formas de dar vuelto para cierta cantidad, es igual a la cantidad de formas de dar vuelto sin usar el primer tipo de moneda, más la cantidad de formas de dar vuelto usando el primer tipo de moneda. Pero esta última cantidad es igual a la cantidad de formas de dar vuelto para la cifra que resta, después de usar una moneda del primer tipo.\n",
    "\n",
    "Dado este último análisis, podemos decir que se cumple que la cantidad de formas de dar vuelto usando $n$ tipos de monedas es igual a:\n",
    "\n",
    "* la cantidad de formas de dar vuelto de \\$a usando todos salvo el primer tipo de moneda, más\n",
    "* la cantidad de formas de dar vuelto de \\$(a-d) usando los $n$ tipos de monedas, donde d es el valor del primer tipo de moneda (el no usado en la primera regla).\n",
    "\n",
    "Así, podemos reducir de manera recursiva el problema original, al problema de dar vuelto para cantidades más pequeñas, usando menos tipos de monedas. Además, es necesario considerar las siguientes condiciones de borde:\n",
    "\n",
    "* si \\$a es exactamente 0, tenemos 1 forma de dar vuelto.\n",
    "* si \\$a es menos que 0, tenemos 0 formas de dar vuelto.\n",
    "* si $n$ (tipos de monedas) es 0, tenemos 0 formas de dar vuelto.\n",
    "\n",
    "Teniendo estas reglas en consideración, podemos definir facilmente nuestra función recursiva:"
   ]
  },
  {
   "cell_type": "code",
   "execution_count": null,
   "metadata": {},
   "outputs": [],
   "source": [
    "def calcular_formas_vuelto(cantidad, tipos_moneda):\n",
    "    if cantidad == 0:\n",
    "        return 1\n",
    "    elif cantidad < 0 or len(tipos_moneda) == 0:\n",
    "        return 0\n",
    "    else:\n",
    "        return calcular_formas_vuelto(cantidad,tipos_moneda[0:-1]) + \\\n",
    "                calcular_formas_vuelto(cantidad-tipos_moneda[-1], tipos_moneda)\n",
    "\n",
    "tipos = [1, 5, 10, 50]\n",
    "calcular_formas_vuelto(100, tipos)"
   ]
  },
  {
   "cell_type": "markdown",
   "metadata": {},
   "source": [
    "Al igual que en el caso de la versión recursiva de Fibonacci, el cálculo de las formas de dar vuelto genera una recursión de árbol con cálculos redundantes. A pesar de esto, no es obvio como diseñar un algoritmo mejor para calcular la solución, menos aún obtener una versión iterativa, lo que da todavía más valor a la recursión de árbol."
   ]
  }
 ],
 "metadata": {
  "kernelspec": {
   "display_name": "Python 3",
   "language": "python",
   "name": "python3"
  },
  "language_info": {
   "codemirror_mode": {
    "name": "ipython",
    "version": 3
   },
   "file_extension": ".py",
   "mimetype": "text/x-python",
   "name": "python",
   "nbconvert_exporter": "python",
   "pygments_lexer": "ipython3",
   "version": "3.6.3"
  }
 },
 "nbformat": 4,
 "nbformat_minor": 2
}
