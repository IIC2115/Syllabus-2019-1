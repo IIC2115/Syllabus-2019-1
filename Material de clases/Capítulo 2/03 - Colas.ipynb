{
 "cells": [
  {
   "cell_type": "markdown",
   "metadata": {},
   "source": [
    "<p>\n",
    "<font size='5' face='Georgia, Arial'>IIC2115 - Programación como herramienta para la ingeniería</font><br>\n",
    "<font size='1'>Basado en material de Karim Pichara y Christian Pieringer. Todos los derechos reservados.</font>\n",
    "</p>"
   ]
  },
  {
   "cell_type": "markdown",
   "metadata": {},
   "source": [
    "## Colas (Queues)"
   ]
  },
  {
   "cell_type": "markdown",
   "metadata": {},
   "source": [
    "La colas corresponden a estructuras de datos que permiten coleccionar objetos insertados de acuerdo a la regla __First-in__, **First-out** (FIFO). Los elementos puede ser insertados en cualquier momento, pero solamente el elemento más \"antiguo\" puede ser extraído.\n",
    "\n",
    "![](figs/queues.png)"
   ]
  },
  {
   "cell_type": "markdown",
   "metadata": {},
   "source": [
    "A diferencia de los stacks, las listas de Python no pueden usarse para acceder de manera eficiente a los elementos en la modalidad FIFO que usan las colas. Por lo tanto, se importan directamente desde la librería `collections` del módulo `deque`. Siempre es posible generar una clase u objeto que funcione como cola, sin embargo, el módulo `deque` ejecuta todos los métodos de esta estructura de manera eficiente. Esta librería implementa todas las operaciones para colas simples y colas de doble extremo. \n",
    "\n",
    "Dos métodos fundamentales para esta estructura son: `enqueue()` que permite agregar elementos a la cola; y el método `dequeue()`, que retorna y remueve el primer elemento de la cola. El resto de los métodos y operadores de esta estructura se detallan en la siguiente tabla.\n",
    "\n",
    "![](figs/queues-methods.png)"
   ]
  },
  {
   "cell_type": "code",
   "execution_count": null,
   "metadata": {},
   "outputs": [],
   "source": [
    "from collections import deque\n",
    "\n",
    "# Cola vacia\n",
    "cola = deque()\n",
    "\n",
    "# se agregan elementos a la cola por orden de llegada\n",
    "cola.append('naranja')\n",
    "cola.append('manzana')\n",
    "cola.append('platano')\n",
    "\n",
    "print(cola)\n",
    "print(cola.popleft())\n",
    "print(cola)\n"
   ]
  },
  {
   "cell_type": "code",
   "execution_count": null,
   "metadata": {},
   "outputs": [],
   "source": [
    "cola = deque(['naranja', 'manzana', 'platano'])\n",
    "\n",
    "# primer elemento\n",
    "print(cola[0])\n",
    "\n",
    "# len\n",
    "print('la cola tiene {0} elementos'.format(len(cola)))\n",
    "\n",
    "# is_empty\n",
    "cola.clear()\n",
    "if len(cola) == 0:\n",
    "    print('la cola esta vacia')"
   ]
  },
  {
   "cell_type": "markdown",
   "metadata": {},
   "source": [
    "Casos típicos de esta estructura de datos son las colas de impresión, atención de clientes, atención en cajeros automáticos, etc. En el ejemplo a continuación veremos un modelo simple para atención en una línea de revisión técnica."
   ]
  },
  {
   "cell_type": "code",
   "execution_count": null,
   "metadata": {},
   "outputs": [],
   "source": [
    "from collections import deque\n",
    "from random import choice, randrange\n",
    "\n",
    "\n",
    "class Auto:\n",
    "    \"\"\"\n",
    "    Esta clase modela los autos que llegan a la revision.\n",
    "    \"\"\"\n",
    "    \n",
    "    tp = {'moto': 10, 'auto': 25, 'camioneta': 30}  # Atributo de la clase\n",
    "    \n",
    "    def __init__(self):\n",
    "        self.tipo_vehiculo = choice(['moto', 'camioneta', 'auto'])\n",
    "        self.tiempo_revision = Auto.tp[self.tipo_vehiculo]\n",
    "\n",
    "    def obtener_tiempo_promedio(self):\n",
    "        return self.tiempo_revision\n",
    "    \n",
    "    def mostrar_tipo(self):\n",
    "        print('Atendiendo: {0}'.format(self.tipo_vehiculo))\n",
    "\n",
    "\n",
    "class Taller:\n",
    "    \"\"\"\n",
    "    Esta clase modela la linea de revision en el taller.\n",
    "    \"\"\"\n",
    "    \n",
    "    def __init__(self, autos_por_hora):\n",
    "        self.tasa_atencion = autos_por_hora\n",
    "        self.tarea_actual = None\n",
    "        self.tiempo_revision = 0\n",
    "\n",
    "    def ocupado(self):\n",
    "        \"\"\"\n",
    "        Verifica si el taller está ocupado. \n",
    "        Retorna None cuando está vacío.\n",
    "        \"\"\"\n",
    "        return self.tarea_actual != None\n",
    "\n",
    "    def proximo_auto(self, auto):\n",
    "        self.tarea_actual = auto\n",
    "        self.tiempo_revision = auto.obtener_tiempo_promedio()\n",
    "        auto.mostrar_tipo()\n",
    "        \n",
    "    def tick(self):\n",
    "        \"\"\"\n",
    "        Realiza el decremento del contador de tiempo \n",
    "        en la simulación.\n",
    "        \"\"\"\n",
    "        if self.tarea_actual != None:\n",
    "            self.tiempo_revision = self.tiempo_revision - 1\n",
    "            if self.tiempo_revision <= 0:\n",
    "                self.tarea_actual = None\n",
    "\n",
    "        \n",
    "def llega_nuevo_auto():\n",
    "    \"\"\"Esta funcion modela la llegada de un auto nuevo a la cola.\"\"\"\n",
    "    num = randrange(1, 201)\n",
    "    return num == 200\n",
    "\n",
    "\n",
    "def revision_tecnica():\n",
    "    \"\"\"Esta función maneja el proceso de revisión.\"\"\"\n",
    "    \n",
    "    planta_revision = Taller(5)  # Crea una planta de revisión con capacidad de 5 autos/hora\n",
    "    cola_revision = deque()  # Cola de revision vacia\n",
    "    tiempo_espera = []  # Lista con los tiempos de espera\n",
    "\n",
    "    \"\"\"\n",
    "    La llegada de los vehículos a la línea de revisión está modelada\n",
    "    como un proceso aleatorio.\n",
    "    \"\"\"\n",
    "    for instante in range(1000):\n",
    "        \n",
    "        if llega_nuevo_auto():\n",
    "            auto = Auto()\n",
    "            cola_revision.append(auto)\n",
    "        \n",
    "        if (not planta_revision.ocupado()) and (len(cola_revision) > 0):\n",
    "            # Extrae el próximo auto en la cola de atención y \n",
    "            # lo pasa a la planta de revisión.\n",
    "            proximo_auto = cola_revision.popleft()\n",
    "            tiempo_espera.append(proximo_auto.tiempo_revision)\n",
    "            planta_revision.proximo_auto(proximo_auto)\n",
    "    \n",
    "        planta_revision.tick()  # Descuenta un tick de tiempo al auto en espera\n",
    "\n",
    "    tiempo_promedio = sum(tiempo_espera) / len(tiempo_espera)\n",
    "    print('Tiempo promedio de espera {0:6.2f} min y {1} vehiculos esperando.'.format(tiempo_promedio, len(tiempo_espera)))\n",
    "\n",
    "\n",
    "revision_tecnica()"
   ]
  },
  {
   "cell_type": "markdown",
   "metadata": {},
   "source": [
    "## Colas de Doble Extremo (Deque)"
   ]
  },
  {
   "cell_type": "markdown",
   "metadata": {},
   "source": [
    "Las colas de doble extremo son una estructura de datos más general que los __stacks__ y las firecolas, debido a que permiten insertar y remover elementos desde ambos extremos de la estructura. Esta flexibilidad y rápidez es útil para modelar problemas reales de líneas de espera en donde alguna entidad (personas, autos, procesos, partículas) llega con una frecuencia al término de la línea y es atendida a una frecuencia distinta que las del principio de la línea, lo que origina que algunas entidades decidan dejar la cola de espera de forma aleatoria. Un ejemplo es una central de llamados en donde existen varias prioridades para las llamadas entrantes y además donde se terminan llamadas cuando llevan mucho tiempo en espera.\n",
    "\n",
    "![](figs/deque.png)"
   ]
  },
  {
   "cell_type": "markdown",
   "metadata": {},
   "source": [
    "Al igual como ocurrió con las colas, un `deque` es implementado en Python mediante el modulo `deque` de la librería `collections`. Los principales métodos que maneja un `deque` se encuentran resumidos en la tabla siguiente.\n",
    "\n",
    "![](figs/deques-methods.png)"
   ]
  },
  {
   "cell_type": "code",
   "execution_count": null,
   "metadata": {},
   "outputs": [],
   "source": [
    "from collections import deque\n",
    "\n",
    "# Creamos un deque vacio y lo poblamos objeto a objeto.\n",
    "d = deque()\n",
    "d.append('r')\n",
    "d.append('a')\n",
    "d.append('d')\n",
    "d.append('a')\n",
    "d.append('r')\n",
    "d.append('e')\n",
    "d.append('s')\n",
    "\n",
    "print(d)\n",
    "print(len(d))\n",
    "\n",
    "# Revisamos el primer y último elemento del deque\n",
    "print(d[0], d[-1])\n",
    "\n",
    "# Rotamos el deque k=3. Los últimos k elementos pasan a ser los primeros\n",
    "d.rotate(3)\n",
    "print(d)\n",
    "\n",
    "# Extraemos el primer y último elemento del deque\n",
    "primero = d.popleft()\n",
    "ultimo = d.pop()\n",
    "\n",
    "print(primero, ultimo)\n",
    "print(d)"
   ]
  },
  {
   "cell_type": "markdown",
   "metadata": {},
   "source": [
    "A continuación un ejemplo simple de chequeo de palabras palíndromas usando deques. La palabra es almacenada en un deque y las letras de los extremos son extraidas simultaneamente comparadas hasta que quede una sola letra."
   ]
  },
  {
   "cell_type": "code",
   "execution_count": null,
   "metadata": {},
   "outputs": [],
   "source": [
    "from collections import deque\n",
    "\n",
    "class Palabra:\n",
    "\n",
    "    def __init__(self, palabra = None):\n",
    "        self.palabra = palabra\n",
    "        self.letras = deque(palabra)\n",
    "\n",
    "    def es_palindrome_rec(self):\n",
    "        if len(self.letras) > 1:\n",
    "            #la siguiente línea es compleja, pero vale la pena hacer el esfuerzo para entenderla\n",
    "            return self.letras.popleft() == self.letras.pop() and Palabra(''.join(self.letras)).es_palindrome_rec()\n",
    "        else:\n",
    "            return True\n",
    "\n",
    "p1 = Palabra(\"reconocer\")\n",
    "p2 = Palabra(\"espectaculo\")\n",
    "p3 = Palabra(\"ana\")\n",
    "\n",
    "print(p1.es_palindrome_rec())\n",
    "print(p2.es_palindrome_rec())\n",
    "print(p3.es_palindrome_rec())\n"
   ]
  },
  {
   "cell_type": "markdown",
   "metadata": {},
   "source": [
    "<b>Nota</b>: En Python lo más directo para chequear si un string es palindrome es simplemente comparar palabra == palabra[::-1]"
   ]
  }
 ],
 "metadata": {
  "anaconda-cloud": {},
  "kernelspec": {
   "display_name": "Python 3",
   "language": "python",
   "name": "python3"
  },
  "language_info": {
   "codemirror_mode": {
    "name": "ipython",
    "version": 3
   },
   "file_extension": ".py",
   "mimetype": "text/x-python",
   "name": "python",
   "nbconvert_exporter": "python",
   "pygments_lexer": "ipython3",
   "version": "3.6.3"
  }
 },
 "nbformat": 4,
 "nbformat_minor": 1
}
