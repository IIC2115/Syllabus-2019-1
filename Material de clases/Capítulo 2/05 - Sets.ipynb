{
 "cells": [
  {
   "cell_type": "markdown",
   "metadata": {},
   "source": [
    "<p>\n",
    "<font size='5' face='Georgia, Arial'>IIC2115 - Programación como herramienta para la ingeniería</font><br>\n",
    "<font size='1'>Basado en material de Karim Pichara y Christian Pieringer. Todos los derechos reservados.</font>\n",
    "</p>"
   ]
  },
  {
   "cell_type": "markdown",
   "metadata": {},
   "source": [
    "## Sets\n",
    "\n",
    "Un `set` es un contenedor útil cuando tenemos que asegurar que los objetos no estén repetidos en la estructuras. Por ejemplo, en una lista de canciones pueden existir muchas canciones asociadas al mismo artista, si queremos generar una lista de todos los artistas en la librería buscándolos en la lista de canciones, tendríamos que preocuparnos de ir chequeando para cada canción nueva si ya incluímos al artista o no. Esto podría ser más fácil usando un `set`, ya que la estructura se encarga de mantener sólo una copia de cada elemento, a pesar de que lo agreguemos nuevamente (tal como en la unión de conjuntos).\n",
    "\n",
    "En Python un `set` puede contener cualquier objeto *hashable*, es decir, objetos que pueden ser usados como llaves en diccionarios, y que por lo mismo deben ser inmutables."
   ]
  },
  {
   "cell_type": "code",
   "execution_count": null,
   "metadata": {},
   "outputs": [],
   "source": [
    "lista_canciones = [(\"Uptown Funk\", \"Mark Ronson\"),\n",
    "           (\"Thinking Out Loud\", \"Amy Wadge \"),\n",
    "           (\"Sugar\", \"Maroon 5\"),\n",
    "           (\"Patterns In The Ivy\", \"Opeth\"),\n",
    "           (\"Take Me To Church\", \"Hozier\"),\n",
    "           (\"Style\", \"Taylor Swift\"),\n",
    "           (\"Love Me Like You Do\", \"Ellie Goulding\")]\n",
    "\n",
    "artistas = set()\n",
    "\n",
    "for cancion, artista in lista_canciones:\n",
    "    artistas.add(artista)\n",
    "\n",
    "print(artistas)"
   ]
  },
  {
   "cell_type": "markdown",
   "metadata": {},
   "source": [
    "Podemos también construir un `set` directamente usando llaves, donde los elementos deben estar separados por coma:"
   ]
  },
  {
   "cell_type": "code",
   "execution_count": null,
   "metadata": {},
   "outputs": [],
   "source": [
    "canciones = {'Style', \n",
    "             'Uptown Funk', \n",
    "             'Take Me To Church', \n",
    "             'Sugar', \n",
    "             'Thinking Out Loud', \n",
    "             'Patterns In The Ivy', \n",
    "             'Love Me Like You Do'}\n",
    "\n",
    "print(canciones)\n",
    "\n",
    "print(\"Sugar\" in canciones)\n",
    "\n",
    "for artista in artistas:\n",
    "    print(\"{} toca buena música\".format(artista))\n"
   ]
  },
  {
   "cell_type": "markdown",
   "metadata": {},
   "source": [
    "Notar que cuando imprimimos el `set`, los items __no__ están con el mismo orden que los ingresamos, ya que al igual que en un diccionario, un `set` __no__ mantienen ningún orden adentro de la estructura. Por esta razón, en un `set` __no__ podemos usar un índice para buscar sus elementos, pero sí es posible construir una lista directamente desde un `set`:"
   ]
  },
  {
   "cell_type": "code",
   "execution_count": null,
   "metadata": {},
   "outputs": [],
   "source": [
    "ordenada = list(artistas)\n",
    "ordenada.sort()\n",
    "print(ordenada)"
   ]
  },
  {
   "cell_type": "markdown",
   "metadata": {},
   "source": [
    "Un `set` no ofrece los mismos métodos relativos a las operaciones matemáticas de conjuntos:"
   ]
  },
  {
   "cell_type": "code",
   "execution_count": null,
   "metadata": {},
   "outputs": [],
   "source": [
    "mis_artistas = {'Hozier', 'Opeth', 'Ellie Goulding', 'Mark Ronson', 'Taylor Swift'}\n",
    "artistas_album = {'Maroon 5', 'Taylor Swift', 'Amy Wadge'}\n",
    "\n",
    "print(\"Todos: {}\".format(mis_artistas.union(artistas_album)))\n",
    "print(\"Ambos: {}\".format(artistas_album.intersection(mis_artistas)))\n",
    "\n",
    "# Conjunto de objetos que están en un conjunto o en el otro pero no en ambos\n",
    "print(\"Cualquiera pero no ambos: {}\".format(mis_artistas.symmetric_difference(artistas_album)))  "
   ]
  },
  {
   "cell_type": "markdown",
   "metadata": {},
   "source": [
    "Los métodos usados en la celda anterior retornan el mismo resultado independiente de qué `set` llama a qué `set`, por ejemplo, `mis_artistas.union(artistas_album)` da el mismo resultado que `artistas_album.union(mis_artistas)`. Hay otros métodos en los cuales si importa cuál es el set que realiza el llamado al método, por ejemplo, `issubset()` y `issuperset()`. Otro ejemplo es el método `difference()`, que retorna los objetos que están en el `set` que llama al método (por ejemplo, `set1.difference(set2)`) pero que no están en el set pasado como argumento (en el ejemplo, en `set2`)."
   ]
  },
  {
   "cell_type": "code",
   "execution_count": null,
   "metadata": {},
   "outputs": [],
   "source": [
    "mis_artistas = {'Opeth', 'Ellie Goulding', 'Mark Ronson', 'Taylor Swift'}\n",
    "bandas = {\"Opeth\", \"Guns N' Roses\"}\n",
    "\n",
    "print(\"mis_artistas es a bandas:\")\n",
    "print(\"issuperset: {}\".format(mis_artistas.issuperset(bandas)))\n",
    "print(\"issubset: {}\".format(mis_artistas.issubset(bandas)))\n",
    "print(\"difference: {}\".format(mis_artistas.difference(bandas)))\n",
    "print(\"-\"*20)\n",
    "print(\"bandas es a mis_artistas:\")\n",
    "print(\"issuperset: {}\".format(bandas.issuperset(mis_artistas)))\n",
    "print(\"issubset: {}\".format(bandas.issubset(mis_artistas)))\n",
    "print(\"difference: {}\".format(bandas.difference(mis_artistas)))"
   ]
  }
 ],
 "metadata": {
  "anaconda-cloud": {},
  "kernelspec": {
   "display_name": "Python 3",
   "language": "python",
   "name": "python3"
  },
  "language_info": {
   "codemirror_mode": {
    "name": "ipython",
    "version": 3
   },
   "file_extension": ".py",
   "mimetype": "text/x-python",
   "name": "python",
   "nbconvert_exporter": "python",
   "pygments_lexer": "ipython3",
   "version": "3.6.3"
  }
 },
 "nbformat": 4,
 "nbformat_minor": 1
}
