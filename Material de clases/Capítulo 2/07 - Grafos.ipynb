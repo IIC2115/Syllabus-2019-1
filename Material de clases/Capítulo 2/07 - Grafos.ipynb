{
 "cells": [
  {
   "cell_type": "markdown",
   "metadata": {},
   "source": [
    "<p>\n",
    "<font size='5' face='Georgia, Arial'>IIC2115 - Programación como herramienta para la ingeniería</font><br>\n",
    "<font size='1'>Basado en material de Ivania Donoso y Daniela Ossa. Todos los derechos reservados.</font>\n",
    "</p>"
   ]
  },
  {
   "cell_type": "markdown",
   "metadata": {},
   "source": [
    "# Grafos\n",
    "Un grafo se define como un conjunto no vacío de nodos y las relaciones entre estos. En teoría de grafos, a los nodos se les llama __vértices__ y a las relaciones entre ellos __aristas__. \n",
    "\n",
    "Los grafos pueden ser dirigidos o no dirigidos. Que un grafo sea dirigido significa que las relaciones entre los nodos tienen una orientación: si el `nodo_a` está relacionado con el `nodo_b`, esto no signfica que el nodo_b está relacionado con el `nodo_a`. En cambio, en los grafos no digiridos, las relaciones son son simétricas: si el `nodo_a` está relacionado con el `nodo_b`, entonces el `nodo_b` está relacionado con el `nodo_a`.\n",
    "![](figs/grafos.png)"
   ]
  },
  {
   "cell_type": "markdown",
   "metadata": {},
   "source": [
    "En este curso no estudiaremos teoría de grafos, solo veremos las estructuras de datos que se usan para representarlos y operar con ellos. \n",
    "\n",
    "## Estructura\n",
    "\n",
    "Existen múltiples formas para representar grafos. En este curso veremos 4: representación con nodos, listas de adyacencia, matrices de adyacencia y matrices de incidencia. \n",
    "\n",
    "### Representación con nodos\n",
    "Esta es la forma más natural de representar un grafo: se define la clase nodo, que tiene una lista de nodos a los cuáles está relacionado. Solo se tiene acceso directo a un nodo, tal y como sucede con los árboles. "
   ]
  },
  {
   "cell_type": "code",
   "execution_count": null,
   "metadata": {},
   "outputs": [],
   "source": [
    "class Node:\n",
    "    \n",
    "    def __init__(self, value):\n",
    "        self.value = value\n",
    "        self.connections = []\n",
    "        \n",
    "    def add_vertex(self, value):\n",
    "        self.connections.append(value)\n",
    "        \n",
    "    def __repr__(self):\n",
    "        l = \"Node: {} \".format(self.value)\n",
    "        if len(self.connections) > 0:\n",
    "            l += \"-> (\"+ \",\".join([c.__repr__() for c in self.connections]) + \")\"\n",
    "        return l\n",
    "    \n",
    "\n",
    "grafo = Node(1)\n",
    "last = grafo\n",
    "n_5 = Node(5)\n",
    "for i in range(2, 5):\n",
    "    n = Node(i)\n",
    "    last.add_vertex(n)\n",
    "    last = n\n",
    "    if i == 3:\n",
    "        last.add_vertex(n_5)\n",
    "    elif i == 4:\n",
    "        last.add_vertex(n_5)\n",
    "        "
   ]
  },
  {
   "cell_type": "code",
   "execution_count": null,
   "metadata": {},
   "outputs": [],
   "source": [
    "print(grafo)"
   ]
  },
  {
   "cell_type": "markdown",
   "metadata": {},
   "source": [
    "### Lista de Adyacencia\n",
    "\n",
    "En esta estructura todos, los vertices se guardan en una lista, y a su vez cada uno de ellos guarda una lista con los vértices con los que está relacionados. Los grafos de arriba se representarían como:"
   ]
  },
  {
   "cell_type": "code",
   "execution_count": null,
   "metadata": {},
   "outputs": [],
   "source": [
    "# Aquí usamos diccionarios int: list porque ofrece más facilidad de búsqueda.\n",
    "# También podrían ser list(tuple(int, list)).\n",
    "grafo_no_dirigido = {1: [2], 2: [1, 3], 3: [2, 4, 5], 4: [3, 5], 5: [3, 4]}\n",
    "grafo_dirigido = {1: [2], 2: [3], 3: [4, 5], 4: [5], 5: []}"
   ]
  },
  {
   "cell_type": "markdown",
   "metadata": {},
   "source": [
    "### Matriz de Adyacencia\n",
    "\n",
    "Las matrices de adyacencia son matrices cuadradas binarias, donde las filas representan los vértices de origen y las columnas los vértices de llegada. Para un grafo no dirigido, la entrada _(i,j)_ de su matriz de adyacencia contiene un __1__ cuando existe una arista que conecta el vértice _i_ con el vertice _j_, y contiene un __0__ si no existe dicha conexión. Las matrices de adyacencia de los grafos no dirigidos siempre son __simétricas__.\n",
    "\n",
    "En el caso de un grafo dirigido, la entrada _(i,j)_ de su matriz de adyacencia contiene un __1__ cuando existe una arista que va __dirigida__ desde el vértice _i_ al vértice _j_, y contiene un __0__ si no existe una arista con dicha dirección (la arista puede eventualmente existir, pero en el sentido contrario, _i.e._, de _j_ a _i_).\n",
    "\n",
    "En Python, podemos representar las matrices de adyacendcia de ambos tipos de grafo con listas de listas."
   ]
  },
  {
   "cell_type": "code",
   "execution_count": null,
   "metadata": {},
   "outputs": [],
   "source": [
    "grafo_no_dirigido = [[0, 1, 0, 0, 0], [1, 0, 1, 0, 0], [0, 1, 0, 1, 1], [0, 0, 1, 0, 1], [0, 0, 1, 1, 0]]\n",
    "grafo_dirigido = [[0, 1, 0, 0, 0], [0, 0, 1, 0, 0], [0, 0, 0, 1, 1], [0, 0, 0, 0, 1], [0, 0, 0, 0, 0]]"
   ]
  },
  {
   "cell_type": "code",
   "execution_count": null,
   "metadata": {},
   "outputs": [],
   "source": [
    "for v in grafo_no_dirigido:\n",
    "    print(v)\n",
    "print(\"\")\n",
    "for v in grafo_dirigido:\n",
    "    print(v)"
   ]
  },
  {
   "cell_type": "markdown",
   "metadata": {},
   "source": [
    "### Matriz de incidencia\n",
    "\n",
    "En una matriz incidencia, las filas representan los vértices y las columnas representan las aristas. Para un grafo no dirigido, la entrada _(i,j)_ de su matriz de incidencia contiene un __1__ cuando el vértice _i_ está conectado con la arista _j_, y contiene un __0__ si no existe dicha conexión. A diferencia de la _matriz de adyacencia_, una _matriz de incidencia_ generalmente no es cuadrada (¿por qué? ).\n",
    "\n",
    "En el caso de un grafo dirigido, la entrada _(i,j)_ de su matriz de incidencia contiene un __-1__ cuando la arista _j_ sale del vértice _i_, y contiene un __1__ si la arista _j_ llega al vértice _i_. Si no existe conexión alguna entre el vértice _i_ y la arista _j_, la entrada _(i,j)_ contiene un __0__."
   ]
  },
  {
   "cell_type": "code",
   "execution_count": null,
   "metadata": {},
   "outputs": [],
   "source": [
    "grafo_no_dirigido = [[1, 0, 0, 0, 0], [1, 1, 0, 0, 0], [0, 1, 1, 1, 0], [0, 0, 1, 0, 1], [0, 0, 0, 1, 1]]\n",
    "grafo_dirigido = [[-1, 0, 0, 0, 0], [1, -1, 0, 0, 0], [0, 1, -1, -1, 0], [0, 0, 1, 0, -1], [0, 0, 0, 1, 1]]"
   ]
  },
  {
   "cell_type": "code",
   "execution_count": null,
   "metadata": {},
   "outputs": [],
   "source": [
    "for v in grafo_no_dirigido:\n",
    "    print(v)\n",
    "print(\"\")\n",
    "for v in grafo_dirigido:\n",
    "    print(v)"
   ]
  },
  {
   "cell_type": "markdown",
   "metadata": {},
   "source": [
    "## Operaciones básicas"
   ]
  },
  {
   "cell_type": "markdown",
   "metadata": {},
   "source": [
    "Las operaciones básicas que implementan estas estructuras de datos son:\n",
    "\n",
    "`adjacent(G, x, y)`: verifica que exista una arista entre `x` e `y`.\n",
    "\n",
    "`neighbors(G, x)`: entrega una lista con todos los vértices `y` tales que existe una arista entre `x` e `y`.\n",
    "\n",
    "`add_vertex(G, x)`: agrega el vértice `x`.\n",
    "\n",
    "`remove_vertex(G, x)`: remueve el vértice `x`.\n",
    "\n",
    "`add_edge(G, x, y)`: agrega una arista entre los vértices `x` e `y`.\n",
    "\n",
    "`remove_edge(G, x, y)`: remueve la arista entre `x` e `y`.\n",
    "\n",
    "`get_vertex_value(G, x)`: obtiene el valor asociado al vértice `x`.\n",
    "\n",
    "`set_vertex_value(G, x, v)`: asigna un valor al vértice `x`.\n",
    "\n",
    "`get_edge_value(G, x, y)`: retorna el valor asociado con la arista que existe entre `x` e `y`.\n",
    "\n",
    "`set_edge_value(G, x, y)`: asigna un valor a la arista que existe entre `x` e `y`.\n"
   ]
  },
  {
   "cell_type": "markdown",
   "metadata": {},
   "source": [
    "## Ejemplo"
   ]
  },
  {
   "cell_type": "markdown",
   "metadata": {},
   "source": [
    "Supongamos que quieres representar a tus amigos como un grafo. __Cada vértice sería una persona__, y cada vez que un vértice A se conecte con un vértice B, significa que __A considera que B es su amigo__. No siempre esta relación es simétrica, es decir, no siempre nuestros amigos creen que somos sus amigos. De hecho, cerca de la mitad de las personas que consideramos nuestros amigos no nos consideran amigos suyos ([comprobado cientificamente](http://www.nytimes.com/2016/08/07/opinion/sunday/do-your-friends-actually-like-you.html)). Por lo tanto, el grafo que tendremos que representar es un __grafo dirigido__.\n",
    "\n",
    "Partamos con la clase Persona:"
   ]
  },
  {
   "cell_type": "code",
   "execution_count": null,
   "metadata": {},
   "outputs": [],
   "source": [
    "class Persona:\n",
    "\n",
    "    def __init__(self, nombre):\n",
    "        self.nombre = nombre\n",
    "\n",
    "    def __repr__(self):\n",
    "        return self.nombre"
   ]
  },
  {
   "cell_type": "markdown",
   "metadata": {},
   "source": [
    "Como dijimos, cada vértice es una persona. Para esto tenemos dos posibilidades: cada vértice tiene como valor a un objeto del tipo Persona, o cada Persona es un vértice en el grafo. Para este ejemplo crearemos una clase Nodo cuyo valor será del tipo Persona."
   ]
  },
  {
   "cell_type": "code",
   "execution_count": null,
   "metadata": {},
   "outputs": [],
   "source": [
    "class Nodo:\n",
    "\n",
    "    def __init__(self, valor):\n",
    "        self.valor = valor\n",
    "        \n",
    "    def __repr__(self):\n",
    "        return repr(self.valor)"
   ]
  },
  {
   "cell_type": "markdown",
   "metadata": {},
   "source": [
    "Ahora definimos la clase Grafo, o Graph, sobre la cual realizaremos nuestras operaciones"
   ]
  },
  {
   "cell_type": "code",
   "execution_count": null,
   "metadata": {},
   "outputs": [],
   "source": [
    "class Grafo:\n",
    "\n",
    "    def __init__(self, lista_adyacencia=None):\n",
    "        self.lista_adyacencia = dict() if lista_adyacencia is None else lista_adyacencia\n",
    "\n",
    "    def adjacent(self, x, y):\n",
    "        return y in self.lista_adyacencia[x]\n",
    "\n",
    "    def neighbors(self, x):\n",
    "        return self.lista_adyacencia[x]\n",
    "\n",
    "    def add_vertex(self, x):\n",
    "        self.lista_adyacencia[x] = set()\n",
    "\n",
    "    def remove_vertex(self, x):\n",
    "        self.lista_adyacencia.pop(x, None)\n",
    "        for k, v in self.lista_adyacencia.items():\n",
    "            if x in v:\n",
    "                v.remove(x)\n",
    "\n",
    "    def add_edge(self, x, y):\n",
    "        if x in self.lista_adyacencia:\n",
    "            self.lista_adyacencia[x].add(y)\n",
    "\n",
    "    def remove_edge(self, x, y):\n",
    "        vertice = self.lista_adyacencia.get(x, list())\n",
    "        if y in vertice:\n",
    "            vertice.remove(y)\n",
    "\n",
    "    def get_vertex_value(self, x):\n",
    "        return self.lista_adyacencia.get(x, None)\n",
    "\n",
    "    def set_vertex_value(self, x, v):\n",
    "        self.lista_adyacencia[v] = self.lista_adyacencia.pop(x)\n",
    "\n",
    "    def get_edge_value(self, x, y):\n",
    "        pass\n",
    "\n",
    "    def set_edge_value(self, x, y):\n",
    "        pass\n",
    "\n",
    "    def __repr__(self):\n",
    "        output = list()\n",
    "        for k, v in self.lista_adyacencia.items():\n",
    "            output.append(\"{} dice que sus amigos son: {}\".format(k, v))\n",
    "        return \"\\n\".join(output)"
   ]
  },
  {
   "cell_type": "markdown",
   "metadata": {},
   "source": [
    "Probemos el ejemplo con un grupo aleatorio de personas:"
   ]
  },
  {
   "cell_type": "code",
   "execution_count": null,
   "metadata": {},
   "outputs": [],
   "source": [
    "# Creemos a nuestras personas y guardemoslas en nodos\n",
    "juan = Nodo(Persona(\"Juan\"))\n",
    "pedro = Nodo(Persona(\"Pedro\"))\n",
    "antonia = Nodo(Persona(\"Antonia\"))\n",
    "jose = Nodo(Persona(\"Jose\"))\n",
    "maria = Nodo(Persona(\"María\"))\n",
    "loreto = Nodo(Persona(\"Loreto\"))\n",
    "\n",
    "# Definimos las amistades\n",
    "amistades = {\n",
    "    juan: set([pedro, antonia, jose, maria, loreto]),\n",
    "    pedro: set([jose, loreto]),\n",
    "    antonia: set([pedro, maria]),\n",
    "    maria: set([antonia, loreto]),\n",
    "    jose: set([pedro, antonia, maria]),\n",
    "}\n",
    "\n",
    "grafo = Grafo(amistades)\n",
    "grafo"
   ]
  },
  {
   "cell_type": "code",
   "execution_count": null,
   "metadata": {},
   "outputs": [],
   "source": [
    "# Nos olvidamos de Loreto\n",
    "grafo.add_vertex(loreto)\n",
    "print(\"Loreto dice que sus amigos son: {}\".format(\n",
    "    grafo.get_vertex_value(loreto)))\n",
    "\n",
    "# Loreto dice que tiene algunos amigos\n",
    "grafo.add_edge(loreto, antonia)\n",
    "grafo.add_edge(loreto, juan)\n",
    "print(\"Loreto dice que sus amigos son: {}\".format(\n",
    "    grafo.get_vertex_value(loreto)))\n",
    "\n",
    "# Y María dice que Loreto es su amiga\n",
    "grafo.add_edge(maria, loreto)"
   ]
  },
  {
   "cell_type": "code",
   "execution_count": null,
   "metadata": {},
   "outputs": [],
   "source": [
    "# A Pedro le cae mal Loreto, por lo decide retirarse del grupo\n",
    "grafo.remove_vertex(pedro)\n",
    "grafo"
   ]
  },
  {
   "cell_type": "code",
   "execution_count": null,
   "metadata": {},
   "outputs": [],
   "source": [
    "def dfs(graph, start):\n",
    "    visited, stack = list(), [start]\n",
    "    while stack:\n",
    "        vertex = stack.pop()\n",
    "        if vertex not in visited:\n",
    "            visited.append(vertex)\n",
    "            for v in graph[vertex]:\n",
    "                if v not in visited:\n",
    "                    stack.append(v)   \n",
    "    return visited"
   ]
  },
  {
   "cell_type": "code",
   "execution_count": null,
   "metadata": {},
   "outputs": [],
   "source": [
    "dfs(amistades, juan)"
   ]
  },
  {
   "cell_type": "code",
   "execution_count": null,
   "metadata": {},
   "outputs": [],
   "source": [
    "def bfs(graph, start):\n",
    "    visited, queue = list(), [start]\n",
    "    while queue:\n",
    "        vertex = queue.pop(0)\n",
    "        if vertex not in visited:\n",
    "            visited.append(vertex)\n",
    "            for v in graph[vertex]:\n",
    "                if v not in visited:\n",
    "                    queue.append(v)\n",
    "    return visited"
   ]
  },
  {
   "cell_type": "code",
   "execution_count": null,
   "metadata": {},
   "outputs": [],
   "source": [
    "bfs(amistades, jose)"
   ]
  },
  {
   "cell_type": "code",
   "execution_count": null,
   "metadata": {},
   "outputs": [],
   "source": [
    "grafo = {\n",
    "    \"A\": [\"B\", \"C\", \"E\", \"G\"],\n",
    "    \"B\": [\"D\", \"F\", \"G\"],\n",
    "    \"C\": [\"B\", \"E\", \"G\"],\n",
    "    \"E\": [\"C\", \"F\"],\n",
    "    \"D\": [\"B\", \"C\", \"E\", \"G\"],\n",
    "    \"G\": [\"B\", \"C\", \"D\", \"F\"],\n",
    "    \"F\": [\"C\", \"A\" ]\n",
    "}"
   ]
  },
  {
   "cell_type": "code",
   "execution_count": null,
   "metadata": {},
   "outputs": [],
   "source": [
    "dfs(grafo, \"F\")"
   ]
  },
  {
   "cell_type": "code",
   "execution_count": null,
   "metadata": {},
   "outputs": [],
   "source": [
    "bfs(grafo, \"F\")"
   ]
  }
 ],
 "metadata": {
  "kernelspec": {
   "display_name": "Python 3",
   "language": "python",
   "name": "python3"
  },
  "language_info": {
   "codemirror_mode": {
    "name": "ipython",
    "version": 3
   },
   "file_extension": ".py",
   "mimetype": "text/x-python",
   "name": "python",
   "nbconvert_exporter": "python",
   "pygments_lexer": "ipython3",
   "version": "3.6.3"
  }
 },
 "nbformat": 4,
 "nbformat_minor": 1
}
