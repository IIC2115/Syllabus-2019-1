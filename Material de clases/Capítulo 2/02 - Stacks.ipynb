{
 "cells": [
  {
   "cell_type": "markdown",
   "metadata": {},
   "source": [
    "<p>\n",
    "<font size='5' face='Georgia, Arial'>IIC2115 - Programación como herramienta para la ingeniería</font><br>\n",
    "<font size='1'>Basado en material de Karim Pichara y Christian Pieringer. Todos los derechos reservados.</font>\n",
    "</p>"
   ]
  },
  {
   "cell_type": "markdown",
   "metadata": {},
   "source": [
    "## Stacks"
   ]
  },
  {
   "cell_type": "markdown",
   "metadata": {},
   "source": [
    "Los _stacks_ son una estructura de datos en donde una colección de objetos son insertados y removidos según el principio de __Last In__, __First Out___ (LIFO). Es decir, un usuario puede agregar secuencialmente objetos al stack en cualquier momento, sin embargo, solo puede remover desde el stack el objeto __más recientemente agregado__ (ubicado en el tope del _stack_). Cómo se muestra en la siguiente figura, el funcionamiento de los stacks es equivalente al de una columna de platos apilados después de ser lavados. El último plato lavado lavado será el primero en ser utilizado.\n",
    "\n",
    "![](figs/stacks.png)"
   ]
  },
  {
   "cell_type": "markdown",
   "metadata": {},
   "source": [
    "En general, los stacks tienen los siguientes métodos: `push()`, `pop()`, `top()`, `is_empty()`, `len()`. Dentro de los métodos más usados se encuentran: `push()` para insertar un objeto al tope del stack; y `pop()` para remover el último objeto insertado en él. En Python, los stacks están implementados mediante listas. A continuación vemos los métodos para stacks equivalentes con la implementación usando listas.\n",
    "\n",
    "![](figs/stacks-methods.png)"
   ]
  },
  {
   "cell_type": "markdown",
   "metadata": {},
   "source": [
    "Estos métodos funcionan de la siguiente manera:"
   ]
  },
  {
   "cell_type": "code",
   "execution_count": null,
   "metadata": {},
   "outputs": [],
   "source": [
    "# un stack vacio\n",
    "stack = []\n",
    "\n",
    "# push\n",
    "stack.append(1)\n",
    "stack.append(10)\n",
    "stack.append(12)\n",
    "\n",
    "print(stack)\n",
    "\n",
    "# pop\n",
    "stack.pop() \n",
    "print('pop: {0}'.format(stack))\n",
    "\n",
    "# top\n",
    "stack.append(25)\n",
    "print('top: {0}'.format(stack[-1]))\n",
    "\n",
    "# len\n",
    "print('el stack tiene {0} elementos'.format(len(stack)))\n",
    "\n",
    "# is_empty\n",
    "stack = []\n",
    "if len(stack) == 0:\n",
    "    print('el stack está vacío')"
   ]
  },
  {
   "cell_type": "markdown",
   "metadata": {},
   "source": [
    "Un ejemplo real del uso de stacks en una aplicación es el botón *back* en los navegadores de internet. Durante la navegación, todas las direcciones van siendo ingresadas en un stack. La última dirección siempre es recuperada al presionar este botón.\n",
    "\n",
    "![](img/back-button-stacks.png)"
   ]
  },
  {
   "cell_type": "code",
   "execution_count": null,
   "metadata": {},
   "outputs": [],
   "source": [
    "class Navegador:\n",
    "    \n",
    "    def __init__(self, current_url = 'http://www.google.com'):\n",
    "        self.__urls_stack = []\n",
    "        self.__current_url = current_url\n",
    "    \n",
    "    def __cargar_url(self, url):\n",
    "        self.__current_url = url\n",
    "        print('cargando url: {0}'.format(url))\n",
    "        \n",
    "    def ir(self, url):\n",
    "        self.__urls_stack.append(self.__current_url)\n",
    "        print('ir ->', end=' ')\n",
    "        self.__cargar_url(url)        \n",
    "    \n",
    "    def volver(self):\n",
    "        last_url = self.__urls_stack.pop()     \n",
    "        print('back->', end=' ')\n",
    "        self.__cargar_url(last_url)\n",
    "        \n",
    "    def mostrar_pagina_actual(self):\n",
    "        print('pagina actual: {0}'.format(self.__current_url))\n",
    "    \n",
    "    \n",
    "Chrome = Navegador()\n",
    "Chrome.ir('http://www.uc.cl')\n",
    "Chrome.ir('http://www.uc.cl/es/programas-de-estudio')\n",
    "Chrome.ir('http://www.uc.cl/es/doctorado')\n",
    "\n",
    "Chrome.mostrar_pagina_actual()\n",
    "Chrome.volver()\n",
    "Chrome.mostrar_pagina_actual()"
   ]
  },
  {
   "cell_type": "markdown",
   "metadata": {},
   "source": [
    "Otro ejemplo para el uso de stacks es revertir secuencias. A continuación una implementación sencilla de este ejemplo."
   ]
  },
  {
   "cell_type": "code",
   "execution_count": null,
   "metadata": {},
   "outputs": [],
   "source": [
    "class Texto:\n",
    "    \n",
    "    def __init__(self):\n",
    "        self.stack = []\n",
    "\n",
    "    def leer_archivo(self, nombre_archivo):\n",
    "        print('Entrada:')\n",
    "        \n",
    "        with open(nombre_archivo) as fid:\n",
    "            for linea in fid:\n",
    "                print(linea.strip())\n",
    "                self.stack.append(linea.strip())\n",
    "        \n",
    "        print()\n",
    "        fid.closed\n",
    "\n",
    "    def invertir_lines(self):\n",
    "        print('Salida:')\n",
    "    \n",
    "        while len(self.stack) > 0:\n",
    "            print(self.stack.pop())\n",
    "            \n",
    "\n",
    "t = Texto()\n",
    "t.leer_archivo('stacks-texto.txt')\n",
    "t.invertir_lines()"
   ]
  }
 ],
 "metadata": {
  "anaconda-cloud": {},
  "kernelspec": {
   "display_name": "Python 3",
   "language": "python",
   "name": "python3"
  },
  "language_info": {
   "codemirror_mode": {
    "name": "ipython",
    "version": 3
   },
   "file_extension": ".py",
   "mimetype": "text/x-python",
   "name": "python",
   "nbconvert_exporter": "python",
   "pygments_lexer": "ipython3",
   "version": "3.6.3"
  }
 },
 "nbformat": 4,
 "nbformat_minor": 1
}
