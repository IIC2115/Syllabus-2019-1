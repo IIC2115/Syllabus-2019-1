{
 "cells": [
  {
   "cell_type": "markdown",
   "metadata": {},
   "source": [
    "<p>\n",
    "<font size='5' face='Georgia, Arial'>IIC2115 - Programación como herramienta para la ingeniería</font><br>\n",
    "</p>"
   ]
  },
  {
   "cell_type": "markdown",
   "metadata": {},
   "source": [
    "# Herramientas para Python\n",
    "\n",
    "En continuación a la clase pasada, continuaremos introduciendo herramientas que pueden ser utilizadas en Python. En este capítulo trabajermos con archivos geográficos (GIS) y cómo podemos manejarlos mediante librerías de Python."
   ]
  },
  {
   "cell_type": "markdown",
   "metadata": {},
   "source": [
    "## 1.- GIS (SIG en español)\n",
    "\n",
    "Un Sistema de Información Geográfica (SIG o GIS) es una integración organizada de hardware, software y datos geográficos diseñada para capturar, almacenar, manipular, analizar y desplegar en todas sus formas la información geográficamente referenciada con el fin de resolver problemas complejos de planificación y gestión.\n",
    "\n",
    "### 1.1- Funcionamiento de GIS\n",
    "\n",
    "El GIS funciona como una base de datos con información geográfica (datos alfanuméricos) que se encuentra asociada por un identificador común a los objetos gráficos de un mapa digital. De esta forma, señalando un objeto se conocen sus atributos e, inversamente, preguntando por un registro de la base de datos se puede saber su localización en la cartografía.\n",
    "\n",
    "La razón fundamental para utilizar un GIS es la gestión de información espacial. El sistema permite separar la información en diferentes capas temáticas y las almacena independientemente, permitiendo trabajar con ellas de manera rápida y sencilla, y facilitando al profesional la posibilidad de relacionar la información existente a través de la topología de los objetos, con el fin de generar otra nueva que no podríamos obtener de otra forma."
   ]
  },
  {
   "cell_type": "markdown",
   "metadata": {},
   "source": [
    "### 1.2.- La representación de los datos\n",
    "\n",
    "Los datos GIS representan los objetos del mundo real en un sistema referenciado de coordenadas. Para los alcances del curso es necesario entender que uno de los formatos más utilizados para almacenar esta información es el formato Shape File. \n",
    "\n",
    "Este formato de archivo, formalmente conocido como ESRI Shapefile (SHP) es propietario de datos espaciales desarrollado por la compañía ESRI, quien crea y comercializa software para Sistemas de Información Geográfica como Arc/Info o ArcGIS. Originalmente se creó para la utilización con su producto ArcView GIS, pero actualmente se ha convertido en formato estándar de facto para el intercambio de información geográfica entre Sistemas de Información Geográfica por la importancia que los productos ESRI tienen en el mercado SIG y por estar muy bien documentado. \n",
    "\n",
    "Dentro de estos archivos podemos encontrar tres tipos de representaciones:\n",
    "\n",
    "* Puntos\n",
    "* Líneas\n",
    "* Polígonos\n",
    "\n",
    "Dentro de un mismo archivo SHP no pueden existir estas formas combinadas. Es decir, tendremos Shapes especficamente compuestos por puntos, líneas o bien por polígonos. Por ejemplo si tuvieramos un archivo de los colegios de Santiago, este podría ser un shape de puntos (si buscamos representarlos de forma puntual) o polígonos (si buscamos mayor detalle y conocer la forma de cada colegio en el plano). \n",
    "\n",
    "Es importante mencionar que una fuente de datos SHP está compuesta de una serie de archivos a parte del \".shp\". También encontramos \".shx\", \".dbf\", \".prj\" u otros. Lo importante, es que estos archivos se encuentren en la misma carpeta que el archivo \".shp\" y posean el mismo nombre. Si le interesa saber para que sirve cada uno de estos archivos los invito a documentarse en la red."
   ]
  },
  {
   "cell_type": "markdown",
   "metadata": {},
   "source": [
    "### 1.2.- GeoPandas\n",
    "\n",
    "El manejo de este tipo de información por medio de Python se llevará a cabo gracias a la librería `GeoPandas`. Una librería basada en el trabajo con DataFrames (Como en Pandas), pero que esta vez se incluirá una columna geográfica para representar: Puntos, Líneas o Polígonos. Recordemos que un DataFrame (o shapefile) debe contar solo con un tipo de información. Por lo que si buscamos representar más de un tipo de datos, debemos crear un DataFrame por cada forma geográfica. "
   ]
  },
  {
   "cell_type": "markdown",
   "metadata": {},
   "source": [
    "## 2.- Instalación de GeoPandas (IMPORTANTE)\n",
    "\n",
    "### 2.1.- Conociendo la versión de python\n",
    "\n",
    "El proceso de instalación de GeoPandas puede volverse complejo si no se siguen correctamente los pasos para llevar a cabo la instalación. Su instalación se llevará acabo mediante `conda install` si es que tienen anaconda instalado o mediante `pip install` de no ser así.\n",
    "\n",
    "Lo primero de todo es saber que version de python tenemos instalada en nuestro computador para ello abrimos el CMD o TERMINAL y ejecutamos\n",
    "\n",
    "`py --version` o `python --version`\n",
    "\n",
    "Ahi nos indicará la version de python que tenemos instalada por defecto.\n",
    "\n",
    "### 2.2.- Instalando GeoPandas\n",
    "\n",
    "#### 2.2.1.- Si ya poseen Anaconda instalado\n",
    "\n",
    "Para los que ya instalaron Anaconda en sus computadores basta con ejecutar el siguiente comando en el CMD o en el Terminal.\n",
    "\n",
    "`conda install -c conda-forge geopandas`\n",
    "\n",
    "Una vez ejecutado, GeoPandas ya se encuentra funcionando en la versión que verificamos inicialmente por lo que ya podríamos usar el comando:"
   ]
  },
  {
   "cell_type": "code",
   "execution_count": 3,
   "metadata": {},
   "outputs": [
    {
     "ename": "ModuleNotFoundError",
     "evalue": "No module named 'geopandas'",
     "output_type": "error",
     "traceback": [
      "\u001b[0;31m---------------------------------------------------------------------------\u001b[0m",
      "\u001b[0;31mModuleNotFoundError\u001b[0m                       Traceback (most recent call last)",
      "\u001b[0;32m<ipython-input-3-a62d01c1d62e>\u001b[0m in \u001b[0;36m<module>\u001b[0;34m()\u001b[0m\n\u001b[0;32m----> 1\u001b[0;31m \u001b[0;32mimport\u001b[0m \u001b[0mgeopandas\u001b[0m \u001b[0;32mas\u001b[0m \u001b[0mgpd\u001b[0m\u001b[0;34m\u001b[0m\u001b[0m\n\u001b[0m",
      "\u001b[0;31mModuleNotFoundError\u001b[0m: No module named 'geopandas'"
     ]
    }
   ],
   "source": [
    "import geopandas as gpd"
   ]
  },
  {
   "cell_type": "markdown",
   "metadata": {},
   "source": [
    "Si es que la consola nos indica que no conoce el comando `conda`, entonces deben seguir los pasos indicado en este [link](https://stackoverflow.com/questions/44597662/conda-command-is-not-recognized-on-windows-10)"
   ]
  },
  {
   "cell_type": "markdown",
   "metadata": {},
   "source": [
    "#### 2.2.1.- Si no cuentan con Anaconda (windows)\n",
    "\n",
    "En este caso se deben instalar manualmente todas las dependecias de GeoPandas antes de ser instalado. Esta librería depende de las siguientes librerías:\n",
    "\n",
    "* numpy\n",
    "* pandas (version 0.15.2 or later)\n",
    "* shapely\n",
    "* fiona\n",
    "* six\n",
    "* pyproj\n",
    "\n",
    "Para ello vamos a seguir paso a paso las indicaciones que se entregan en el siguiente [link](https://geoffboeing.com/2014/09/using-geopandas-windows/)\n",
    "\n",
    "*Si la consola no les reconoce `pip install` pueden corregirlo con el siguiente [link](https://stackoverflow.com/questions/23708898/pip-is-not-recognized-as-an-internal-or-external-command)\n",
    "\n",
    "#### 2.2.1.- Si no cuentan con Anaconda (macOS)\n",
    "\n",
    "En este caso basta con ejecutar `pip install geopandas` en el terminal y debería habilitarse para la verisón de python que verificamos anteriormente."
   ]
  }
 ],
 "metadata": {
  "kernelspec": {
   "display_name": "Python 3",
   "language": "python",
   "name": "python3"
  },
  "language_info": {
   "codemirror_mode": {
    "name": "ipython",
    "version": 3
   },
   "file_extension": ".py",
   "mimetype": "text/x-python",
   "name": "python",
   "nbconvert_exporter": "python",
   "pygments_lexer": "ipython3",
   "version": "3.6.7"
  }
 },
 "nbformat": 4,
 "nbformat_minor": 2
}
