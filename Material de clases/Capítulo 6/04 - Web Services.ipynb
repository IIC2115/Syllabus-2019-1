{
  "nbformat": 4,
  "nbformat_minor": 0,
  "metadata": {
    "colab": {
      "name": "Web Services.ipynb",
      "version": "0.3.2",
      "provenance": []
    },
    "kernelspec": {
      "name": "python3",
      "display_name": "Python 3"
    }
  },
  "cells": [
    {
      "metadata": {
        "id": "jGNp5UtCG3aT",
        "colab_type": "text"
      },
      "cell_type": "markdown",
      "source": [
        "# Web Services\n",
        "\n",
        "Se entiende por un **web service** al conjunto de aplicaciones cliente-servidor que se comunican a través de la Web mediante un protocolo diseñado para ello. Podemos ver este tipo de servicios como una función o caja negra que puede ser accesada por otros programas a través de internet. Por ejemplo, consideremos el protocolo HTTP usado por nuestro navegador para solicitar información a un sitio web. Por cada llamada desde nuestro navegador al servidor, un script (PHP, Python, ASP, etc) genera dinamicamente una salida en HTML dirigida al navegador para ser visualizada por un nosotros. Los web services funcionan de forma similar, donde la salida está dirigida a una **aplicación que consume** esta información. Para ello el formato de salida desde y hacia el servidor debe ser conocido para que la información pueda ser interpretada correctamente.\n",
        "\n",
        "\n",
        "Supongamos el caso mostrado en la siguiente figura, donde una casa tiene la capacidad de ser controlada remotamente y para ello maneja la información en un computador con salida a internet a través de un servidor web. Este servidor permite la interacción de la casa con otros dispositivos. Como podemos ver una de las ventajas de este modelo de comunicación es la simplicidad de interacción entre las aplicaciones, debido a la independencia del lenguaje con que se implementan los clientes y el servidor. Todos los clientes trabajan procesando un mismo tipo de dato definido en el protocolo. En este ejemplo cada nodo puede solicitar al servidor que envíe o modifique ciertos parámetros de la casa. En el ejemplo, la información es publicada usando JSON o XML, pero también pueden ser utilizados otros formatos.\n",
        "\n",
        "![image](https://user-images.githubusercontent.com/15641721/47880171-4cd28a00-de01-11e8-8ca7-a69e2d1ce271.png)\n",
        "\n",
        "En general se conoce como **Application Programming Interface** o **API** al protocolo destinado para ser usado como interfaz entre dos o más programas. Gracias a las APIs las aplicaciones puede hablar entre ellas sin conocimiento o intervención de los usuarios. Las API se componen de un conjunto de instrucciones para permiten el acceso de programas sobre la web (WWW).\n",
        "\n",
        "# HTTP\n",
        "\n",
        "Gran parte de las arquitecturas de web services se basa en el uso de del protocolo **HTTP** o **Hypertext Transfer Protocol**. Este protocolo está encargado de proporcionar una capa para realización de transacciones y así permitir la comunicación entre clientes y servidores. Corresponde a un protocolo de un nivel superior a TCP y UDP. HTTP trabaja como un protocolo de **request-response** en donde el cliente hace una solicitud y el servidor responde con la información solicitada. Es un protocolo sin estados, por lo tanto todos los comandos se ejecutan independientemente de las conexiones anteriores. Un ejemplo claro de un cliente es nuestro navegador web, y un ejemlo de un servidor, el sitio web al cual deseamos acceder.\n",
        "\n",
        "El funcionamiento de este protocolo se basa en la definición de métodos o verbos que indican la acción a desarrollar por un determinado recurso. Los recursos pueden ser datos existentes en el servidor (e.g. archivos) o bien una salida generada dinámicamente. La versión HTTP/1.1 inlcuye los 5 verbos descritos en la siguiente tabla:\n",
        "\n",
        "| **VERBO HTTP** | **Acción**                                                                                            |\n",
        "| -------------- | ----------------------------------------------------------------------------------------------------- |\n",
        "| GET            | recupera una representación de un recurso sin cambiar nada en el servidor.                            |\n",
        "| HEAD           | recupera la meta-information (header) del recurso, i.e. lo mismo que GET pero sin el cuerpo del HTTP. |\n",
        "| POST           | crea un recurso.                                                                                      |\n",
        "| PATCH          | aplica modificaciones parciales a un recurso.                                                         |\n",
        "| PUT            | reemplaza completamente un recurso existente.                                                         |\n",
        "| DELETE         | elimina un recurso.                                                                                   |\n",
        "\n",
        "\n",
        "HTTP consta también con una conjunto de códigos de estado mediante los cuales entrega información al cliente sobre el resultado de su petición. Para más detalle de los códigos pueden revisar el siguiente [link](https://www.w3schools.com/tags/ref_httpmessages.asp). Algunos códigos comunes son:\n",
        "\n",
        "\n",
        "| Código Estado | Descripción                                                           |\n",
        "| ------------- | --------------------------------------------------------------------- |\n",
        "| 200           | OK. Solicitud exitosa                                                 |\n",
        "| 403           | Prohibido. La petición es aceptada, pero servidor rechaza responderla |\n",
        "| 404           | No encontrado. El recurso solicitado no ha sido encontrado            |\n",
        "| 500           | Error interno del servidor                                            |\n",
        "\n",
        "La siguiente figura muestra un ejemplo con la estructura de los mensaje HTTP para el request del cliente y para la respuesta desde el servidor.\n",
        "\n",
        "![image](https://user-images.githubusercontent.com/15641721/47880617-77711280-de02-11e8-8cff-43ede427a6e0.png)\n",
        "\n",
        "# Estructura REST\n",
        "\n",
        "Una de las arquitecturas más utilizadas para la interacción con servicios web se conocemos como **Representational State Transfer** o simplemente **REST**. Esta estructura utiliza los métodos estándar del protocolo HTTP para realizar operaciones con el servidor. Los llamados al servidor usando REST responden al formato mostrado en la siguiente figura:\n",
        "\n",
        "\n",
        "![image](https://user-images.githubusercontent.com/15641721/47880635-82c43e00-de02-11e8-9453-1b6d844d222a.png)\n",
        "\n",
        "en donde el verbo HTTP corresponde a la acción definida en la tabla anterior; URI se refiere al recurso mediante el cual se realizará la operación; y la versión del HTTP es la versión del protocolo HTTP utilizado, generalmente \"HTTP v1.1\".\n",
        "\n",
        "\n",
        "REST es simple y liviano. El cliente y servidor implementado con REST sobre HTTP puede tomar ventaja de toda la infraestructura existente en internet. En la siguiente figura vemos un diagrama de la arquitectura REST.\n",
        "\n",
        "![image](https://user-images.githubusercontent.com/15641721/47880674-996a9500-de02-11e8-8175-a1263eedf999.png)\n",
        "\n",
        "# Client-side Script\n",
        "\n",
        "En esta sección veremos desde el punto de vista del cliente como hacer solicitudes o **request** a un servidor que mantiene un servicio web. En Python 3, la librereía **requests** nos permite interactuar con servicios disponibles en algún web service. Para ello la librería cuenta con los métodos HTTP requeridos por la estructura de REST. Además, la librería tiene integrada los métodos para serialización en JSON. Para generar una petición mediente GET usamos el método **get(url)** que recibe por argumento el llamado al recurso. Por ejemplo en el siguiente script generamos un cliente que se conecta a la API de google image y recupera una consulta."
      ]
    },
    {
      "metadata": {
        "id": "9j8tcm00JXK7",
        "colab_type": "code",
        "colab": {
          "base_uri": "https://localhost:8080/",
          "height": 136
        },
        "outputId": "b84d071a-f814-403f-9e0d-e0e2a0f331fc"
      },
      "cell_type": "code",
      "source": [
        "import requests\n",
        "\n",
        "# Esta url contiene la dirección del web service y los parámetros que se requiren para la consulta. \n",
        "url = 'https://api.github.com/repos/IIC2115/Syllabus/issues/101/labels'\n",
        "response = requests.get(url)\n",
        "\n",
        "print('Status: {}'.format(response.status_code))\n",
        "response.json()"
      ],
      "execution_count": 2,
      "outputs": [
        {
          "output_type": "stream",
          "text": [
            "Status: 200\n"
          ],
          "name": "stdout"
        },
        {
          "output_type": "execute_result",
          "data": {
            "text/plain": [
              "[{'color': 'c5def5',\n",
              "  'default': False,\n",
              "  'id': 1096226831,\n",
              "  'name': 'LAB05',\n",
              "  'node_id': 'MDU6TGFiZWwxMDk2MjI2ODMx',\n",
              "  'url': 'https://api.github.com/repos/IIC2115/Syllabus/labels/LAB05'}]"
            ]
          },
          "metadata": {
            "tags": []
          },
          "execution_count": 2
        }
      ]
    },
    {
      "metadata": {
        "id": "MOoS8eMMJaJL",
        "colab_type": "code",
        "colab": {}
      },
      "cell_type": "code",
      "source": [
        ""
      ],
      "execution_count": 0,
      "outputs": []
    }
  ]
}