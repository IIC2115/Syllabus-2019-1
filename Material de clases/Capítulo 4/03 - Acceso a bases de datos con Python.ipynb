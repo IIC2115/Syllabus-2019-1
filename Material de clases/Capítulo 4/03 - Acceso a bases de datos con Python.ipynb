{
 "cells": [
  {
   "cell_type": "markdown",
   "metadata": {},
   "source": [
    "<p>\n",
    "<font size='5' face='Georgia, Arial'>IIC2115 - Programación como herramienta para la ingeniería</font><br>\n",
    "</p>"
   ]
  },
  {
   "cell_type": "markdown",
   "metadata": {},
   "source": [
    "# Acceso a bases de datos con Python\n",
    "\n",
    "A pesar de que existe una gran variedad de sistemas administradores de bases de datos (SySQL, SQL Server, PostreSQL), estos son en general programas pesados, con muchas funcionalidades, principalmente pensadas en aplicaciones grandes y no con fines académicos.\n",
    "\n",
    "Para nuestro caso, dado que no necesitamos tanto, utilizaremos SQLite, un administrador altamente compacto y funcional, compatible con SQL, y que está disponible para Windows, Linux y Mac."
   ]
  },
  {
   "cell_type": "markdown",
   "metadata": {},
   "source": [
    "## Conexión y consultas\n",
    "\n",
    "SQLite puede ser accedido de manera directa y transparente a través de Pythom utilizando el modulo **sqlite3**. El siguiente ejemplo muestra como crear una nueva base de datos y ejecutar una serie de consultas en SQL sobre ella."
   ]
  },
  {
   "cell_type": "code",
   "execution_count": null,
   "metadata": {},
   "outputs": [],
   "source": [
    "import sqlite3  # importamos el módulo de sqlite\n",
    "\n",
    "# Creamos o abrimos (si ya existe) la base de datos example. \n",
    "# En SQLite, las bases de datos, independiente de la cantidad de\n",
    "# tablas que tengan, son almacenadas en un archivo.\n",
    "connection = sqlite3.connect('example.db') \n",
    "            \n",
    "# Generamos un cursor al contenido de la base de datos, lo que nos permite \n",
    "# acceder al contenido de las tablas y a realizar consultas sobre ellas.   \n",
    "cursor = connection.cursor()                    \n",
    "\n",
    "# El método execute permite introducir directamente comandos en SQL. \n",
    "# En las siguientes tres llamadas al método, creamos una tabla y luego la poblamos con dos filas    \n",
    "cursor.execute(\"CREATE TABLE countries(name TEXT, continent TEXT, population INTEGER, language TEXT)\")\n",
    "cursor.execute(\"INSERT INTO countries VALUES ('Andorra','Europe',77281, 'Catalan')\")\n",
    "cursor.execute(\"INSERT INTO countries VALUES ('China','Asia', 1403500365, 'Mandarin')\")\n",
    "\n",
    "# En general, en las bases de datos, los cambios no son incorporados de manera inmediata, \n",
    "# con el fin de asegurar la consistencia al acceso de todos los usuarios. Por este motivo, \n",
    "# es necesario indicar de manera explicita, usando el método commit, el momento en que \n",
    "# se desea agregar o actualizar datos.\n",
    "connection.commit() "
   ]
  },
  {
   "cell_type": "markdown",
   "metadata": {},
   "source": [
    "Podemos verificar la creación de la tabla utilizando el siguiente comando:"
   ]
  },
  {
   "cell_type": "code",
   "execution_count": null,
   "metadata": {},
   "outputs": [],
   "source": [
    "cursor.execute('PRAGMA table_info([countries])')\n",
    "print(cursor.fetchall())\n",
    "\n",
    "# Una vez que hemos realizado todas las consultas requeridas, debemos cerrar la conexión con la base de datos.\n",
    "# Es importante recordar que los cambios que no se hacen efectivos (no se hace commit)\n",
    "connection.close()"
   ]
  },
  {
   "cell_type": "markdown",
   "metadata": {},
   "source": [
    "Como se puede ver, el comando anterior nos entrega información relevante, como tipo de dato y posición, para cada una de las columnas de la tabla. Es importante notar que en este momento, no existe una conexión activa con la base de datos, ya que esta fue cerrada con el comando **connection.close()**."
   ]
  },
  {
   "cell_type": "code",
   "execution_count": null,
   "metadata": {},
   "outputs": [],
   "source": [
    "# este llamado a execute falla, debido a que no existe una conexión abierta con la base de datos.\n",
    "cursor.execute('PRAGMA table_info([stocks])')\n",
    "print(cursor.fetchall())"
   ]
  },
  {
   "cell_type": "markdown",
   "metadata": {},
   "source": [
    "De esta manera, antes de realizar una consulta, es necesario abrir nuevamente una conexión, la que a diferencia del caso anterior, no creará un nuevo archivo *example.db*, ya que este fue creado anteriormente. Es importante notar que no es necesario cerrar siempre la conexión con la base de datos, sólo cuando no se espera interactuar con ella en el plazo inmediato.\n",
    "\n",
    "Volviendo al ejemplo anterior, si queremos verificar que la inserción fue realizada correctamente, debemos ejecutar una consulta sobre la misma base de datos."
   ]
  },
  {
   "cell_type": "code",
   "execution_count": null,
   "metadata": {},
   "outputs": [],
   "source": [
    "connection = sqlite3.connect('example.db')\n",
    "cursor = connection.cursor()\n",
    "cursor.execute('SELECT * FROM countries')\n",
    "\n",
    "#obtenemos sólo una fila, si queremos todas, debemos usar fetchall (no cambia el resultado en este caso)\n",
    "print(cursor.fetchone())\n",
    "connection.close()"
   ]
  },
  {
   "cell_type": "markdown",
   "metadata": {},
   "source": [
    "Otra manera de revisar los contenidos de la base de datos, es utilizando una herramienta especializada para esto. Dentro de la gran variedad existente, una opción simple y liviana es [SQLiteStudio](sqlitestudio.pl), que también es multiplataforma (Windows, Linux, Mac)."
   ]
  },
  {
   "cell_type": "markdown",
   "metadata": {},
   "source": [
    "## Parametrización de consultas\n",
    "\n",
    "La manera más directa y sencilla de introducir información variable en una consulta, es utilizando *strings*. Por ejemplo, si permitimos a un usuario indicar el nombre del país sobre el cuál se buscará información, es posible construir una consulta parametrizada de la siguiente manera:"
   ]
  },
  {
   "cell_type": "code",
   "execution_count": null,
   "metadata": {},
   "outputs": [],
   "source": [
    "connection = sqlite3.connect('example.db')\n",
    "cursor = connection.cursor()\n",
    "country = \"'China'\"\n",
    "cursor.execute(\"SELECT * FROM countries WHERE name = %s\" % country)\n",
    "print(cursor.fetchone())"
   ]
  },
  {
   "cell_type": "markdown",
   "metadata": {},
   "source": [
    "A pesar de que la consulta anterior entregó el resultado esperado, el usar este tipo de estrategia para parametrizar consultas es un error muy común en la gran mayoría de los programas que interactuan con bases de datos. Esto puede generar grandes problemas de seguridad, debido a un ataque conocido como *SQL Injection*, que consiste en introducir, como dato para una consulta, consultas completas de SQL que pueden causar grandes pérdidas en la base de datos. Veamos el siguiente caso como ejemplo, donde eliminaremos completamente la tabla *countries* utilizando esta técnica:"
   ]
  },
  {
   "cell_type": "code",
   "execution_count": null,
   "metadata": {},
   "outputs": [],
   "source": [
    "connection = sqlite3.connect('example.db')\n",
    "cursor = connection.cursor()\n",
    "country = \"'China'; DROP TABLE countries;\"\n",
    "# a diferencia de execute, el método executescript permite ejecutar más de una consulta de \n",
    "# manera secuencial (esto abre la puerta a la ejecución de código indeseado).\n",
    "cursor.executescript(\"SELECT * FROM countries WHERE name = %s\" % country)\n",
    "\n",
    "#verificamos la existencia de la tabla\n",
    "cursor.execute('PRAGMA table_info([countries])')\n",
    "print(cursor.fetchall())"
   ]
  },
  {
   "cell_type": "markdown",
   "metadata": {},
   "source": [
    "Para evitar situaciones de este tipo, es fundamental utilizar una técnica segura, como la **sustitución de parámetros**. En el caso de SQLite en Python, se debe poner el signo **?** en una consulta, cada vez que se desee sustituir posteriormente con un valor. Posteriormente, basta con introducir como una tupla los valores deseados, como segundo parámetro del método *execute*."
   ]
  },
  {
   "cell_type": "code",
   "execution_count": null,
   "metadata": {},
   "outputs": [],
   "source": [
    "cursor.execute(\"CREATE TABLE countries(name TEXT, continent TEXT, population INTEGER, language TEXT)\")\n",
    "cursor.execute(\"INSERT INTO countries VALUES ('Andorra','Europe',77281, 'Catalan')\")\n",
    "cursor.execute(\"INSERT INTO countries VALUES ('China','Asia', 1403500365, 'Mandarin')\")\n",
    "\n",
    "country = ('Andorra',)\n",
    "cursor.execute('SELECT * FROM countries WHERE name = ?', country)\n",
    "print(cursor.fetchall())"
   ]
  },
  {
   "cell_type": "markdown",
   "metadata": {},
   "source": [
    "A diferencia del uso de *strings*, la sustitución de parámetros, al hacer explícita la existencia de información externa, permite realizar verificaciones de seguridad que impiden la ejecución de código malicioso. De esta manera, si intentamos realizar nuevamente un ataque de *SQL Injection*, el resultado será distinto:"
   ]
  },
  {
   "cell_type": "code",
   "execution_count": null,
   "metadata": {},
   "outputs": [],
   "source": [
    "country = (\"'China'; DROP TABLE countries;\",)\n",
    "cursor.execute(\"SELECT * FROM countries WHERE name = ?\", country)\n",
    "cursor.execute('PRAGMA table_info([countries])')\n",
    "print(cursor.fetchall())"
   ]
  },
  {
   "cell_type": "markdown",
   "metadata": {},
   "source": [
    "Muchas veces, deberemos insertar más de un valor simultaneamente en la base de datos. Con el fin de evitar el llamado repetido al método **execute** (o el uso del inseguro método **executescript**, la interfaz de SQLite para Python provee el método **executemany**, que permite ejecutar múltiples consultas de manera simultánea, seteando parámetros individualmente para cada una de ellas:"
   ]
  },
  {
   "cell_type": "code",
   "execution_count": null,
   "metadata": {},
   "outputs": [],
   "source": [
    "more_countries = [('Jamaica', 'America', 2881355, 'English'),\n",
    "                  ('Chile', 'America', 18006407, 'Spanish'),\n",
    "                  ('Australia', 'Oceania', 24680100, 'English'),\n",
    "                 ]\n",
    "cursor.executemany('INSERT INTO countries VALUES (?,?,?,?)', more_countries)\n",
    "cursor.execute('SELECT * FROM countries')\n",
    "cursor.fetchall()"
   ]
  },
  {
   "cell_type": "markdown",
   "metadata": {},
   "source": [
    "Finalmente, con el fin de hacer más limpia (y formateable) la impresión de los resultados obtenidos por una consulta, es posible utilizar el cursor resultante de una consulta como un iterador:"
   ]
  },
  {
   "cell_type": "code",
   "execution_count": null,
   "metadata": {},
   "outputs": [],
   "source": [
    "for country in cursor.execute('SELECT * FROM countries ORDER BY name'):\n",
    "    print(country)\n",
    "connection.close()"
   ]
  }
 ],
 "metadata": {
  "kernelspec": {
   "display_name": "Python 3",
   "language": "python",
   "name": "python3"
  },
  "language_info": {
   "codemirror_mode": {
    "name": "ipython",
    "version": 3
   },
   "file_extension": ".py",
   "mimetype": "text/x-python",
   "name": "python",
   "nbconvert_exporter": "python",
   "pygments_lexer": "ipython3",
   "version": "3.5.2"
  }
 },
 "nbformat": 4,
 "nbformat_minor": 2
}
