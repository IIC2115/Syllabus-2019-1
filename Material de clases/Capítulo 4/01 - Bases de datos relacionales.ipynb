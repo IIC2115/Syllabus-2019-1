{
 "cells": [
  {
   "cell_type": "markdown",
   "metadata": {},
   "source": [
    "<p>\n",
    "<font size='5' face='Georgia, Arial'>IIC2115 - Programación como herramienta para la ingeniería</font><br>\n",
    "</p>"
   ]
  },
  {
   "cell_type": "markdown",
   "metadata": {},
   "source": [
    "# Bases de datos relacionales\n",
    "\n",
    "La cantidad de información disponible en la actualidad crece de manera exponencial, y el valor de los datos como un activo en las distintas organizaciones es ampliamente reconocido. Para sacar el máximo provecho de esto, los usuarios necesitan herramientas que simplifiquen las tareas de administración de los datos y extraigan información útil de manera oportuna. De lo contrario, los datos pueden convertirse en un pasivo, con el costo de adquirirlos y gestionarlos excediendo con mucho el valor derivado de la información que se puede extraer de ellos.\n",
    "\n",
    "Una base de datos es una colección de datos que típicamente describe las actividades de una o más organizaciones relacionadas. Por ejemplo, una base de datos universitaria puede contener información sobre lo siguiente:\n",
    "\n",
    "* Entidades como estudiantes, profesores, cursos y salas.\n",
    "* Relaciones entre entidades, tales como la matrícula de los estudiantes en los cursos, los cursos de la facultad y el uso de las salas para los cursos.\n",
    "\n",
    "Un sistema de gestión de bases de datos, o DBMS (Data Base Management System), es un software diseñado para ayudar a mantener y utilizar grandes volúmenes de datos. La necesidad de tales sistemas, así como su uso, está creciendo rápidamente. La alternativa al uso de un DBMS es almacenar los datos en archivos y escribir código específico para cada aplicación que los gestionará.\n",
    "\n",
    "Un modelo de datos es una colección de constructos de descripción de datos de alto nivel, que ocultan muchos detalles de almacenamiento de bajo nivel. Una de las principales ventajas de un DBMS es, justamente, que permite al usuario definir los datos almacenados en términos de un modelo de datos. La mayoría de los DBMS se basan en el modelo de datos relacional, descrito a continuación."
   ]
  },
  {
   "cell_type": "markdown",
   "metadata": {},
   "source": [
    "## El modelo relacional\n",
    "\n",
    "El modelo relacional es muy simple y elegante: una base de datos es una colección de una o más relaciones, donde cada relación es una tabla con filas y columnas. Esta simple representación tabular permite comprender fácilmente el contenido de una base de datos y permite el uso de lenguajes simples de alto nivel para consultar los datos. \n",
    "\n",
    "El constructo principal para representar datos en el modelo relacional es una relación. Una relación consiste en un esquema de la relación (*relation schema*) y una instancia de esta. La instancia es una tabla y el esquema de la relación especifica el nombre de la relación, el nombre de cada campo (o columna, o atributo) y el dominio de cada uno. Consideremos como ejemplo la siguiente relación, que define a un estudiante en el contexto de una base de datos universitaria:\n",
    "\n",
    "**Estudiantes(sid: string, nombre: string, login: string, edad: integer, promedio: real)**\n",
    "\n",
    "Esta descripción indica, por ejemplo, que el campo llamado **id** tiene un dominio llamado **string**, que como se espera, comprende el conjunto de todas las cadenas de carácteres.\n",
    "\n",
    "Centrémonos ahora en las instancias de una relación. Una instancia es un conjunto de tuplas, también llamadas registros, en las que cada tupla tiene el mismo número de campos que el esquema de la relación. Una instancia de la relación se puede considerar como una tabla, en la que cada tupla es una fila, y todas las filas tienen el mismo número de campos (columnas). A pesar de que el modelo relacional no permite que dos filas coincidan en el valor de todos sus campos, en la práctica, los sistemas comerciales permiten que las tablas tengan filas duplicadas.\n",
    "\n",
    "Como se mencionó anteriormente, un esquema de relación especifica el dominio de cada columna en la instancia. Estas restricciones de dominio en el esquema especifican una condición importante que queremos que cada instancia de la relación satisfaga: los valores que aparecen en una columna deben extraerse del dominio asociado a esa columna. Por lo tanto, el dominio de un campo es esencialmente el tipo de dato de ese campo, en términos de lenguaje de programación, y restringe los valores que pueden aparecer en él.\n",
    "\n",
    "Una base de datos relacional es una colección de relaciones con nombres distintos. El esquema de base de datos relacional (_database schema_) es la colección de esquemas para las relaciones en la base de datos. Por ejemplo, una base de datos universitaria podría estar compuesta por las siguiente relaciones:\n",
    "\n",
    "* Estudiantes(id: STRING, nombre: STRING, login: STRING, edad: INTEGER, promedio: REAL)\n",
    "* Estudiantes_Postgrado(id: STRING, nombre: STRING)\n",
    "* Facultad(id: STRING, nombre: STRING)\n",
    "* Curso(id: STRING, nombre: STRING, creditos: INTEGER)\n",
    "* Sala(codigo: STRING, ubicacion: STRING, capacidad: INTEGER)\n",
    "* Inscrito(id_estudiante: STRING, id_curso: STRING, nota: REAL)\n",
    "* Ofrece(id_facultad: STRING, id_curso: STRING)\n",
    "* Se_Dicta_En(id_curso: STRING, codigo_sala: STRING, modulo: INTEGER)\n",
    "\n",
    "Una instancia de una base de datos relacional es entonces una colección de instancias de relación, una por esquema de relación, donde cada instancia debe satisfacer las restricciones de dominio de su esquema."
   ]
  },
  {
   "cell_type": "markdown",
   "metadata": {},
   "source": [
    "## Restricciones de integridad\n",
    "\n",
    "Una base de datos es sólo tan buena como la información almacenada en ella, y un DBMS debe por lo tanto ayudar a prevenir el ingreso de información incorrecta. Una restricción de integridad es una condición especificada en el esquema de la base de datos, que restringe los datos que se pueden almacenar en una instancia de la base de datos. Si una instancia satisface todas las restricciones de integridad especificadas en el esquema, es una instancia válida. Un DBMS hace cumplir las restricciones de integridad, ya que sólo permite que las instancias válidas sean almacenenadas.\n",
    "\n",
    "Las restricciones de integridad se especifican y se aplican en diferentes momentos:\n",
    "1. La especificación ocurre cuando el administrador o el usuario final define un esquema de base de datos. En ese momento, especifica las restricciones que deben conservarse en cualquier instancia de esta base de datos.\n",
    "2. La aplicación ocurre cuando se ejecuta una aplicación que utiliza la de base de datos. El DBMS verifica la existencia de violaciones de restricciones y no permite cambios en los datos que las violan (en algunas situaciones, en lugar de rechazar el cambio, el DBMS podría hacer algunos cambios compensatorios a los datos para garantizar que la instancia de la base de datos satisface todas las restricciones). En cualquier caso, no está permitido que los cambios en la base de datos creen una instancia que viole cualquier restricción de integridad.\n",
    "\n",
    "Se pueden especificar muchos tipos de restricciones de integridad en el modelo relacional. Ya hemos visto un ejemplo de una restricción de integridad en las restricciones de dominio asociadas a un esquema de relación. En general, también se pueden especificar otros tipos de restricciones, por ejemplo, que no haya dos estudiantes que tengan el mismo valor en **id**. A continuación, discutiremos restricciones de integridad distintas de las de dominio.\n",
    "\n",
    "\n",
    "### Restricciones de llave\n",
    "\n",
    "Consideremos la relación **Estudiantes** y la restricción de que dos estudiantes no pueden tener el mismo identificador (**id**). Esta restricción es un ejemplo de una restricción de llave. Una restricción de llave es una afirmación sobre que un cierto subconjunto mínimo de los campos de una relación es un identificador único para la tupla. Un conjunto de campos que identifica de forma única una tupla, de acuerdo con una restricción de llave, se denomina llave candidata para la relación (a menudo esto se denomina sólo como llave). En el caso de la relación **Estudiantes**, el campo que contiene el identificador del estudiante (**id**) es una llave candidata. \n",
    "\n",
    "Revisemos a continuación con mayor detalle la definición de una llave (candidata). Hay dos partes en la definición:\n",
    "1. Dos tuplas distintas en una instancia válida, no pueden tener valores idénticos en todos los campos de una llave.\n",
    "2. Ningún subconjunto del conjunto de campos en una llave es un identificador único para una tupla.\n",
    "\n",
    "La primera parte de la definición indica que, en cualquier instancia válida, los valores en los campos que forman una llave, identifican de forma única una tupla en la instancia. Cuando se especifica una restricción de llave, se debe estar seguro de que esta restricción no impedirá almacenar un conjunto de tuplas **correcto**. La noción de correctitud depende de la naturaleza de los datos almacenados. Por ejemplo, varios estudiantes pueden tener el mismo nombre, aunque cada estudiante tiene un identificador de estudiante único. Si el campo nombre es declarado como llave, el DBMS no permitirá que la relación **Estudiantes** contenga dos tuplas que describen a diferentes estudiantes con el mismo nombre. \n",
    "\n",
    "La segunda parte de la definición especifica que, por ejemplo, el conjunto de campos {**id**, **nombre**} no es una llave para la relación **Estudiantes**, ya que este conjunto ya contiene a una llave candidata (**id**). El conjunto {**id**, **nombre**} es un ejemplo de una superllave, que es un conjunto de campos que contiene una llave.\n",
    "\n",
    "Un resultado de esto es que siempre está garantizado que una relación tenga una llave. Dado que una relación es un conjunto de tuplas, el conjunto de todos los campos es siempre una superllave. Si existen otras restricciones de integridad, algunos subconjuntos de los campos pueden formar una llave, pero si no, el conjunto de todos los campos es una llave. \n",
    "\n",
    "Una relación puede tener varias llaves candidatas. Por ejemplo, los campos de **nombre** y **edad** de la relación **Estudiantes** podrían potencialmente, en conjunto, también identificar a los estudiantes de manera única. Es decir, {**nombre**, **edad**} es también una llave. \n",
    "\n",
    "De entre todas las llaves candidatas disponibles, se puede identificar una **llave primaria**. Intuitivamente, se puede hacer referencia a una tupla desde otra parte de la base de datos, almacenando los valores de sus campos de llave primaria. Por ejemplo, podemos referirnos a una tupla de la tabla **Estudiantes**, almacenando su valor **id** (ver relación **Inscrito**). En principio, podemos usar cualquier llave para esto, no sólo la primaria. Sin embargo, es preferible usar la llave primaria porque es lo que el DBMS espera con el fin de optimizar el acceso a las tablas\n",
    "\n",
    "\n",
    "### Restricciones de llave foránea\n",
    "\n",
    "A veces, la información almacenada en una relación está vinculada a la información almacenada en otra relación. Si se modifica una de las relaciones, la otra debe ser verificada, y tal vez modificada, para mantener los datos coherentes. Se debe especificar entonces una restricción de integridad que involucre a ambas relaciones si un DBMS debe hacer tales chequeos. La restricción de integridad más común que implica dos relaciones es una restricción de llave foránea. \n",
    "\n",
    "Consideremos la relación **Inscrito(id_estudiante: STRING, id_curso: STRING, nota: REAL)**. Para asegurar que sólo los estudiantes válidos puedan inscribirse en los cursos, cualquier valor que aparezca en el campo **id_estudiante** de una instancia de la relación **Inscrito**, también debería aparecer en el campo **id** de alguna tupla en la relación **Estudiantes**. El campo **id_estudiante** de Inscrito se denomina llave foránea y se refiere a **Estudiantes**. La clave foránea en la relación analizada (Inscrito), debe coincidir con la llave primaria de la relación referenciada (**Estudiantes**), es decir, debe coincidir en el número de columnas y tipos de dato, aunque los nombres de las columnas puedan ser diferentes\n",
    "\n",
    "Finalmente, una clave foránea puede referirse a la misma relación. Por ejemplo, podríamos extender la relación **Estudiantes** con una columna llamada **compañero** y declarar esta columna como una clave foránea de **Estudiantes**. Intuitivamente, cada estudiante podría tener un compañero, y este campo podría contener el identificador del compañero. Sin embargo, es posible preguntarse, qué pasa si un estudiante no tiene (aún) un compañero. Esta situación se maneja en usando un valor especial llamado nulo (*null*). El uso de *null* en un campo de una tupla implica que el valor en ese campo es desconocido o no es aplicable (por ejemplo, no conocemos al compañero todavía o no hay ninguno). La existencia de un *null* en un campo de llave foránea no viola la restricción de llave foránea. Sin embargo, los valores *null* no pueden aparecer en un campo de la llave principal, ya que estos se utilizan para identificar una tupla de forma única.\n",
    "\n",
    "\n",
    "### Restricciones generales\n",
    "\n",
    "Las restricciones de dominio, llave primaria y llave foránea se consideran una parte fundamental del modelo de datos relacional y se les da una atención especial en la mayoría de los DBMS. Sin embargo, muchas veces es necesario especificar restricciones más generales. Por ejemplo, podemos requerir que las edades de los estudiantes estén dentro de un cierto rango de valores; dada dicha especificación de restricción de integridad, el DBMS rechazará inserciones y actualizaciones que la violen. Esto es muy útil para evitar errores en la introducción de datos. \n",
    "\n",
    "La restricción de integridad que los estudiantes deben ser mayores de cierta edad, puede ser pensada como una restricción de dominio extendida, ya que estamos esencialmente definiendo el conjunto de valores de edad permisible más estrictamente de lo que es posible simplemente usando un dominio estándar de *INTEGER*. En general, sin embargo, se pueden especificar restricciones que van más allá de restricciones de dominios, llaves o llaves foráneas. Por ejemplo, podríamos requerir que cada estudiante cuya edad sea mayor que 18 debe tener un promedio mayor que 4. Los sistemas actuales de bases de datos relacionales apoyan tales restricciones generales en forma de restricciones y aserciones de tabla. Las restricciones de tablas se asocian con una sola tabla y se comprueban cada vez que se modifica dicha tabla. En contraste, las aserciones implican varias tablas y se comprueban cuando se modifica cualquiera de estas tablas."
   ]
  }
 ],
 "metadata": {
  "kernelspec": {
   "display_name": "Python 3",
   "language": "python",
   "name": "python3"
  },
  "language_info": {
   "codemirror_mode": {
    "name": "ipython",
    "version": 3
   },
   "file_extension": ".py",
   "mimetype": "text/x-python",
   "name": "python",
   "nbconvert_exporter": "python",
   "pygments_lexer": "ipython3",
   "version": "3.5.2"
  }
 },
 "nbformat": 4,
 "nbformat_minor": 2
}
